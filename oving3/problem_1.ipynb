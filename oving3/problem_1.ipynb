{
 "cells": [
  {
   "cell_type": "code",
   "execution_count": 6,
   "id": "e16658f8",
   "metadata": {},
   "outputs": [],
   "source": [
    "import numpy as np"
   ]
  },
  {
   "cell_type": "code",
   "execution_count": 7,
   "id": "78e81353",
   "metadata": {},
   "outputs": [],
   "source": [
    "def ctr(a:float,b:float,n:int, f):\n",
    "\th = (b-a)/n\n",
    "\tx = np.linspace(a,b,n+1)\n",
    "\tresult = (h/2)*(f(x[0]) + f(x[-1])) + h * f(x[1:-1]).sum()\n",
    "\treturn result\n"
   ]
  },
  {
   "cell_type": "code",
   "execution_count": 8,
   "id": "86e5f2f3",
   "metadata": {},
   "outputs": [
    {
     "name": "stdout",
     "output_type": "stream",
     "text": [
      "Is error is properly bound? True\n",
      "i = 120\n"
     ]
    }
   ],
   "source": [
    "def f(x):\n",
    "\treturn np.exp(x)\n",
    "\n",
    "n = 16\n",
    "\n",
    "def e(n):\n",
    "\treturn np.abs(np.e - 1 - ctr(0,1,n, f))\n",
    "\n",
    "print(\"Is error is properly bound?\", e(n) < 10**-3)\n",
    "\n",
    "i = 2\n",
    "while True:\n",
    "\tif e(i) < 10**-5:\n",
    "\t\tbreak\n",
    "\ti+=1\n",
    "\n",
    "print(\"i =\",i)"
   ]
  },
  {
   "cell_type": "markdown",
   "id": "3afbd6e7",
   "metadata": {},
   "source": [
    "Let\n",
    "\n",
    "$$\n",
    "e_k = \\|X - X_k\\|\n",
    "$$\n",
    "\n",
    "measure the error.\n",
    "The order of convergence is $p$ if there exists a positive constant $M$ such that\n",
    "\n",
    "$$\n",
    "e_{k+1} \\leq M e_k^p\n",
    "$$"
   ]
  },
  {
   "cell_type": "markdown",
   "id": "a38631d4",
   "metadata": {},
   "source": [
    "$$\n",
    "p \\approx \\frac{\\log\\left(\\frac{e_{k+2}}{e_{k+1}}\\right)}{\\log\\left(\\frac{e_{k+1}}{e_{k}}\\right)}\n",
    "$$"
   ]
  },
  {
   "cell_type": "code",
   "execution_count": 9,
   "id": "4df4fa24",
   "metadata": {},
   "outputs": [
    {
     "name": "stdout",
     "output_type": "stream",
     "text": [
      "0.9937683943927207\n",
      "0.021541211731909513\n"
     ]
    }
   ],
   "source": [
    "i = np.arange(1,1000)\n",
    "p = np.array([np.log(e(k+2)/e(k+1))/np.log(e(k+1)/e(k)) for k in i])\n",
    "print(p.mean())\n",
    "print(p.std())"
   ]
  },
  {
   "cell_type": "markdown",
   "id": "1bdc4bfe",
   "metadata": {},
   "source": [
    "$$\\text{The order of convergence for exp is} \\approx 1$$"
   ]
  },
  {
   "cell_type": "code",
   "execution_count": 10,
   "id": "6712642f",
   "metadata": {},
   "outputs": [
    {
     "name": "stdout",
     "output_type": "stream",
     "text": [
      "0.9938149542938793\n",
      "0.02120078022685434\n"
     ]
    }
   ],
   "source": [
    "def g(x):\n",
    "\treturn np.sqrt(x)\n",
    "\n",
    "def e_2(n):\n",
    "\treturn np.abs(ctr(0,1,n,g) - 2/3)\n",
    "\n",
    "\t\n",
    "\n",
    "i = np.arange(1,1000)\n",
    "p = np.array([np.log(e_2(k+2)/e_2(k+1))/np.log(e_2(k+1)/e_2(k)) for k in i])\n",
    "print(p.mean())\n",
    "print(p.std())"
   ]
  }
 ],
 "metadata": {
  "kernelspec": {
   "display_name": ".venv",
   "language": "python",
   "name": "python3"
  },
  "language_info": {
   "codemirror_mode": {
    "name": "ipython",
    "version": 3
   },
   "file_extension": ".py",
   "mimetype": "text/x-python",
   "name": "python",
   "nbconvert_exporter": "python",
   "pygments_lexer": "ipython3",
   "version": "3.13.7"
  }
 },
 "nbformat": 4,
 "nbformat_minor": 5
}
