{
 "cells": [
  {
   "cell_type": "code",
   "execution_count": null,
   "id": "1f33ffa4",
   "metadata": {},
   "outputs": [],
   "source": [
    "import numpy as np\n",
    "import math"
   ]
  },
  {
   "cell_type": "markdown",
   "id": "1f06deb0",
   "metadata": {},
   "source": [
    "## h) Composite trapezoidal rule\n",
    "\n",
    "We implement the composite trapezoidal rule on $[a,b]$ with $n$ subintervals:\n",
    "\n",
    "$$\n",
    "T^n_{[a,b]}[f] = \\frac{h}{2} \\big(f(a) + f(b) + 2 \\sum_{k=1}^{n-1} f(a+kh)\\big), \\quad h=\\tfrac{b-a}{n}.\n",
    "$$"
   ]
  },
  {
   "cell_type": "code",
   "execution_count": null,
   "id": "9d18c565",
   "metadata": {},
   "outputs": [],
   "source": [
    "def composite_trapezoid(f, a: float, b: float, n: int) -> float:\n",
    "    h = (b - a) / n\n",
    "    x = np.linspace(a, b, n + 1)\n",
    "    fx = f(x)\n",
    "    return (h/2) * (fx[0] + 2*fx[1:-1].sum() + fx[-1])"
   ]
  },
  {
   "cell_type": "markdown",
   "id": "3cbc112a",
   "metadata": {},
   "source": [
    "## i) Error analysis for $\\exp$\n",
    "\n",
    "We apply the rule to $f(x)=e^x$ on $[0,1]$.\n",
    "\n",
    "- Exact integral: $I = e-1$\n",
    "- Error: $E^n = |I - T^n|$\n",
    "\n",
    "We also find the minimal $n$ such that $E^n \\leq 10^{-5}$."
   ]
  },
  {
   "cell_type": "code",
   "execution_count": null,
   "id": "f87edbaa",
   "metadata": {},
   "outputs": [],
   "source": [
    "def f_exp(x):\n",
    "    return np.exp(x)\n",
    "\n",
    "I_exp = math.e - 1\n",
    "\n",
    "def error_exp(n):\n",
    "    return abs(I_exp - composite_trapezoid(f_exp, 0, 1, n))\n",
    "\n",
    "n_from_g = 16\n",
    "print(\"Error for n=16:\", error_exp(n_from_g))\n",
    "\n",
    "# Find minimal n with error <= 1e-5\n",
    "tol = 1e-5\n",
    "n = 1\n",
    "while error_exp(n) > tol:\n",
    "    n += 1\n",
    "print(\"Minimal n for error <= 1e-5:\", n)"
   ]
  },
  {
   "cell_type": "markdown",
   "id": "0df9458d",
   "metadata": {},
   "source": [
    "## j) Convergence rate\n",
    "\n",
    "We assume the error satisfies\n",
    "\n",
    "$$\n",
    "E^n[f] \\approx C h^p, \\quad h=1/n.\n",
    "$$\n",
    "\n",
    "We estimate $p$ by\n",
    "\n",
    "$$\n",
    "p \\approx \\frac{\\log(E^{n_2}/E^{n_1})}{\\log(h_{2}/h_{1})}.\n",
    "$$"
   ]
  },
  {
   "cell_type": "code",
   "execution_count": null,
   "id": "366f1836",
   "metadata": {},
   "outputs": [],
   "source": [
    "def f_sqrt(x):\n",
    "    return np.sqrt(x)\n",
    "\n",
    "I_sqrt = 2/3\n",
    "\n",
    "def error_sqrt(n):\n",
    "    return abs(I_sqrt - composite_trapezoid(f_sqrt, 0, 1, n))\n",
    "\n",
    "def estimate_p(errors, ns):\n",
    "    ps = []\n",
    "    for i in range(len(ns)-1):\n",
    "        e1, e2 = errors[i], errors[i+1]\n",
    "        h1, h2 = 1/ns[i], 1/ns[i+1]\n",
    "        ps.append(np.log(e2/e1)/np.log(h2/h1))\n",
    "    return np.mean(ps)\n",
    "\n",
    "ns = [10, 20, 40, 80, 160]\n",
    "errors_exp = [error_exp(n) for n in ns]\n",
    "errors_sqrt = [error_sqrt(n) for n in ns]\n",
    "\n",
    "p_exp = estimate_p(errors_exp, ns)\n",
    "p_sqrt = estimate_p(errors_sqrt, ns)\n",
    "\n",
    "print(\"Estimated p for exp:\", p_exp)\n",
    "print(\"Estimated p for sqrt:\", p_sqrt)"
   ]
  }
 ],
 "metadata": {
  "language_info": {
   "name": "python"
  }
 },
 "nbformat": 4,
 "nbformat_minor": 5
}
