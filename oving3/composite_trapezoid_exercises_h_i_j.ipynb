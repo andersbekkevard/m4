{
 "cells": [
  {
   "cell_type": "markdown",
   "id": "0454e28b",
   "metadata": {},
   "source": [
    "# Composite Trapezoidal Rule: Exercises h, i, j\n",
    "\n",
    "This notebook implements and studies the composite trapezoidal rule for the tasks:\n",
    "- **h** Implement the composite trapezoidal rule\n",
    "- **i** Use the method for $\\exp$ on [0,1], compute the actual error, and find the minimal subintervals for a given tolerance\n",
    "- **j** Estimate the numerical convergence rate for $\\exp$ and $\\sqrt{x}$\n"
   ]
  },
  {
   "cell_type": "markdown",
   "id": "08b95506",
   "metadata": {},
   "source": [
    "## Parameters\n",
    "- `A, B`: integration interval\n",
    "- `N_FROM_G`: the n referenced from part g, used in part i\n",
    "- `TOL`: error tolerance for part i\n",
    "- `ORDER_BASE_NS`: base n values used to estimate observed order p in part j\n"
   ]
  },
  {
   "cell_type": "code",
   "execution_count": 13,
   "id": "c593b75f",
   "metadata": {},
   "outputs": [],
   "source": [
    "import numpy as np\n"
   ]
  },
  {
   "cell_type": "markdown",
   "id": "b6918374",
   "metadata": {},
   "source": [
    "## h) Composite trapezoidal rule\n",
    "We implement a reusable function `composite_trapezoid(f, a, b, n)` that returns the approximation of $\\int_a^b f(x)\\,dx$ using **n** uniform subintervals."
   ]
  },
  {
   "cell_type": "code",
   "execution_count": 14,
   "id": "db815743",
   "metadata": {},
   "outputs": [],
   "source": [
    "from typing import Callable\n",
    "\n",
    "def composite_trapezoid(f: Callable[[np.ndarray], np.ndarray], a: float, b: float, n: int) -> float:\n",
    "    \"\"\"Composite trapezoidal rule on [a, b] with n subintervals.\n",
    "\n",
    "    Parameters\n",
    "    ----------\n",
    "    f : callable mapping array -> array\n",
    "        Vectorized integrand.\n",
    "    a, b : float\n",
    "        Integration limits with a < b.\n",
    "    n : int\n",
    "        Number of subintervals, n >= 1.\n",
    "\n",
    "    Returns\n",
    "    -------\n",
    "    float\n",
    "        Trapezoidal approximation of the integral.\n",
    "    \"\"\"\n",
    "    if n < 1:\n",
    "        raise ValueError(\"n must be >= 1\")\n",
    "    h = (b - a) / n\n",
    "    x = np.linspace(a, b, n + 1)\n",
    "    fx = f(x)\n",
    "    return (h / 2.0) * (fx[0] + 2.0 * fx[1:-1].sum() + fx[-1])\n"
   ]
  },
  {
   "cell_type": "markdown",
   "id": "d192389a",
   "metadata": {},
   "source": [
    "### Helper utilities\n",
    "We provide small helpers for exact integrals on [0,1], error computation, and order estimation."
   ]
  },
  {
   "cell_type": "code",
   "execution_count": 15,
   "id": "16bf5504",
   "metadata": {},
   "outputs": [],
   "source": [
    "def exact_integral_exp_on_01() -> float:\n",
    "    return np.e - 1.0\n",
    "\n",
    "def exact_integral_sqrt_on_01() -> float:\n",
    "    return 2.0 / 3.0\n",
    "\n",
    "def trap_error(f, a: float, b: float, n: int, exact_value: float) -> float:\n",
    "    \"\"\"Absolute error for trapezoid with n subintervals.\"\"\"\n",
    "    approx = composite_trapezoid(f, a, b, n)\n",
    "    return abs(approx - exact_value)\n",
    "\n",
    "def estimate_order_via_triplet(f, a: float, b: float, n: int, exact_value: float) -> float:\n",
    "    \"\"\"Return observed order p using errors at n, 2n, 4n:\n",
    "    p = log(E_{2n}/E_{4n}) / log(E_n/E_{2n}).\"\"\"\n",
    "    E1 = trap_error(f, a, b, n, exact_value)\n",
    "    E2 = trap_error(f, a, b, 2*n, exact_value)\n",
    "    E3 = trap_error(f, a, b, 4*n, exact_value)\n",
    "    if E1 == 0 or E2 == 0 or E3 == 0:\n",
    "        return float('nan')\n",
    "    import numpy as _np\n",
    "    return float(_np.log(E2/E3) / _np.log(E1/E2))\n",
    "\n",
    "def minimal_n_for_tolerance(f, a: float, b: float, exact_value: float, tol: float, n0: int = 1) -> int:\n",
    "    \"\"\"Find the smallest n such that error <= tol by doubling, then shrinking.\n",
    "    Returns the minimal n.\n",
    "    \"\"\"\n",
    "    # Grow n until we beat tolerance\n",
    "    n = max(1, n0)\n",
    "    while trap_error(f, a, b, n, exact_value) > tol:\n",
    "        n *= 2\n",
    "\n",
    "    # Binary search in (n/2, n]\n",
    "    lo = max(1, n // 2)\n",
    "    hi = n\n",
    "    while lo + 1 < hi:\n",
    "        mid = (lo + hi) // 2\n",
    "        if trap_error(f, a, b, mid, exact_value) <= tol:\n",
    "            hi = mid\n",
    "        else:\n",
    "            lo = mid\n",
    "    return hi\n"
   ]
  },
  {
   "cell_type": "code",
   "execution_count": 16,
   "id": "51c54838",
   "metadata": {},
   "outputs": [],
   "source": [
    "# Global parameters for exercises on [0,1]\n",
    "A, B = 0.0, 1.0\n",
    "N_FROM_G = 16        # taken from the earlier part g in your workflow\n",
    "TOL = 1e-5           # target error bound in part i\n",
    "ORDER_BASE_NS = [4, 8, 16, 32, 64, 128]  # base n for observed order estimates\n"
   ]
  },
  {
   "cell_type": "markdown",
   "id": "9872a6d8",
   "metadata": {},
   "source": [
    "## i) Apply to exp on [0,1], compute error, and find minimal n for tolerance\n",
    "We evaluate the trapezoidal rule for `n = N_FROM_G`, compute the absolute error, and determine the minimal subinterval count such that the error is at most `TOL`."
   ]
  },
  {
   "cell_type": "code",
   "execution_count": 17,
   "id": "e926c751",
   "metadata": {},
   "outputs": [
    {
     "name": "stdout",
     "output_type": "stream",
     "text": [
      "Approximation for exp with n = 16: 1.7188411285799945\n",
      "Actual error for n = 16: 5.593e-04\n",
      "Minimal n for tolerance 1e-05: 120\n"
     ]
    }
   ],
   "source": [
    "def f_exp(x: np.ndarray) -> np.ndarray:\n",
    "    return np.exp(x)\n",
    "\n",
    "exact_exp = exact_integral_exp_on_01()\n",
    "approx_g = composite_trapezoid(f_exp, A, B, N_FROM_G)\n",
    "error_g = abs(approx_g - exact_exp)\n",
    "\n",
    "n_min = minimal_n_for_tolerance(f_exp, A, B, exact_exp, TOL, n0=2)\n",
    "\n",
    "print(f\"Approximation for exp with n = {N_FROM_G}: {approx_g:.16f}\")\n",
    "print(f\"Actual error for n = {N_FROM_G}: {error_g:.3e}\")\n",
    "print(f\"Minimal n for tolerance {TOL:g}: {n_min}\")\n"
   ]
  },
  {
   "cell_type": "markdown",
   "id": "7720f046",
   "metadata": {},
   "source": [
    "## j) Estimate numerical convergence rates for exp and sqrt\n",
    "Assume errors satisfy $E^{n}_{[0,1]}[f] \\approx C h^p$ with $h=(b-a)/n$.\n",
    "We estimate p from three successive refinements n, 2n, 4n and then average over several base n values."
   ]
  },
  {
   "cell_type": "code",
   "execution_count": 18,
   "id": "8e269eda",
   "metadata": {},
   "outputs": [
    {
     "name": "stdout",
     "output_type": "stream",
     "text": [
      "Observed p for exp over base n:\n",
      "[1.00042226 1.00010564 1.00002641 1.0000066  1.00000165 1.00000041]\n",
      "p_exp mean = 1.000094, std = 0.000166\n",
      "\n",
      "Observed p for sqrt over base n:\n",
      "[1.00987364 1.00663297 1.00451888 1.00311226 1.00216032 1.00150783]\n",
      "p_sqrt mean = 1.004634, std = 0.003152\n"
     ]
    }
   ],
   "source": [
    "def f_sqrt(x: np.ndarray) -> np.ndarray:\n",
    "    return np.sqrt(x)\n",
    "\n",
    "exact_sqrt = exact_integral_sqrt_on_01()\n",
    "\n",
    "def observed_p_over_ns(f, exact_value):\n",
    "    ps = []\n",
    "    for n in ORDER_BASE_NS:\n",
    "        p = estimate_order_via_triplet(f, A, B, n, exact_value)\n",
    "        if np.isfinite(p):\n",
    "            ps.append(p)\n",
    "    return np.array(ps)\n",
    "\n",
    "p_exp = observed_p_over_ns(f_exp, exact_exp)\n",
    "p_sqrt = observed_p_over_ns(f_sqrt, exact_sqrt)\n",
    "\n",
    "print(\"Observed p for exp over base n:\")\n",
    "print(p_exp)\n",
    "print(f\"p_exp mean = {p_exp.mean():.6f}, std = {p_exp.std(ddof=1):.6f}\")\n",
    "\n",
    "print(\"\\nObserved p for sqrt over base n:\")\n",
    "print(p_sqrt)\n",
    "print(f\"p_sqrt mean = {p_sqrt.mean():.6f}, std = {p_sqrt.std(ddof=1):.6f}\")\n"
   ]
  },
  {
   "cell_type": "markdown",
   "id": "b558e62e",
   "metadata": {},
   "source": []
  }
 ],
 "metadata": {
  "kernelspec": {
   "display_name": ".venv",
   "language": "python",
   "name": "python3"
  },
  "language_info": {
   "codemirror_mode": {
    "name": "ipython",
    "version": 3
   },
   "file_extension": ".py",
   "mimetype": "text/x-python",
   "name": "python",
   "nbconvert_exporter": "python",
   "pygments_lexer": "ipython3",
   "version": "3.13.7"
  }
 },
 "nbformat": 4,
 "nbformat_minor": 5
}
