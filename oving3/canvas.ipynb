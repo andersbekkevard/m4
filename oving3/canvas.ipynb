{
 "cells": [
  {
   "cell_type": "markdown",
   "id": "ed12d283",
   "metadata": {},
   "source": [
    "# Integration â€“Â Exercise 3, Problem 4\n",
    "\n",
    "TMA4125 VÃ¥r 2022"
   ]
  },
  {
   "cell_type": "markdown",
   "id": "8f68873f",
   "metadata": {},
   "source": [
    "## Gauss-Legendre quadrature\n",
    "\n",
    "Additionally to the usual numerics package, let's also load the symbolic package so that we can work with polynomials in an analytical way:"
   ]
  },
  {
   "cell_type": "code",
   "execution_count": 3,
   "id": "a303a329",
   "metadata": {},
   "outputs": [],
   "source": [
    "import numpy as np\n",
    "import sympy as sym\n",
    "from sympy.abc import x\n",
    "from sympy import integrate\n",
    "from sympy import Poly"
   ]
  },
  {
   "cell_type": "markdown",
   "id": "c01923c0",
   "metadata": {},
   "source": [
    "For an interval $x\\in [a,b]$, remember the inner product definition\n",
    "\\begin{align*}\n",
    "\\langle p,q \\rangle := \\int_{a}^{b} p(x)q(x) \\, \\mathrm{d}x\\, ,\n",
    "\\end{align*}\n",
    "which we can implement very simply:"
   ]
  },
  {
   "cell_type": "code",
   "execution_count": 4,
   "id": "33318f22",
   "metadata": {},
   "outputs": [],
   "source": [
    "def inner(p, q, a, b):\n",
    "    \"\"\"\n",
    "    In: two polynomials p(x) and q(x), and integration interval [a,b]\n",
    "    Return: integral of p(x)*q(x) from x=a to x=b\n",
    "    \"\"\" \n",
    "    return integrate(p*q, (x, a, b))"
   ]
  },
  {
   "cell_type": "markdown",
   "id": "347dd101",
   "metadata": {},
   "source": [
    "### a) Constructing an orthogonal basis\n",
    "\n",
    "For the space of polynomials with maximum degree $n$, we can always define the canonical basis $\\phi_0(x)\\equiv 1,\\,  \\phi_j(x) = x^j$, $j=1,...,n$. Since we want a 3-point quadrature rule, we take $n=3$."
   ]
  },
  {
   "cell_type": "code",
   "execution_count": 5,
   "id": "f2279baf",
   "metadata": {},
   "outputs": [],
   "source": [
    "# Start from a simple, non-orthogonal basis:\n",
    "a, b = 0, 1\n",
    "phi0 = 1\n",
    "phi1 = x\n",
    "phi2 = x**2\n",
    "phi3 = x**3"
   ]
  },
  {
   "cell_type": "markdown",
   "id": "aaf8d98c",
   "metadata": {},
   "source": [
    "The first element of our orthogonal basis is simply $p_0(x) = \\phi_0(x) \\equiv 1$. As seen in our first lecture, the next elements can be constructed sequentially via:\n",
    "\\begin{align*}\n",
    "p_j(x) = \\phi_j(x) - \\sum_{k=0}^{j-1}\\frac{\\langle\\phi_j,p_k\\rangle}{\\langle p_k,p_k\\rangle}p_k(x)\\, .\n",
    "\\end{align*}\n",
    "Therefore,\n",
    "\\begin{align*}\n",
    "p_1(x) = \\phi_1(x) - \\frac{\\langle\\phi_1,p_0\\rangle}{\\langle p_0,p_0\\rangle}p_0(x) = x - \\frac{1/2}{1}1 = x - \\frac{1}{2}\\, .\n",
    "\\end{align*}\n",
    "Similarly, we will have\n",
    "\\begin{align*}\n",
    "p_2(x) = \\phi_2(x) - \\frac{\\langle\\phi_2,p_0\\rangle}{\\langle p_0,p_0\\rangle}p_0(x) - \\frac{\\langle\\phi_2,p_1\\rangle}{\\langle p_1,p_1\\rangle}p_1(x)\\, ,\n",
    "\\end{align*}\n",
    "and analogously for $p_3(x)$, which is our \"goal polynomial\". \n",
    "\n",
    "The symbolic package can help with these operations:"
   ]
  },
  {
   "cell_type": "code",
   "execution_count": 6,
   "id": "55df6cb1",
   "metadata": {},
   "outputs": [
    {
     "ename": "SyntaxError",
     "evalue": "invalid syntax (3014215459.py, line 6)",
     "output_type": "error",
     "traceback": [
      "  \u001b[36mCell\u001b[39m\u001b[36m \u001b[39m\u001b[32mIn[6]\u001b[39m\u001b[32m, line 6\u001b[39m\n\u001b[31m    \u001b[39m\u001b[31mp2 =\u001b[39m\n         ^\n\u001b[31mSyntaxError\u001b[39m\u001b[31m:\u001b[39m invalid syntax\n"
     ]
    }
   ],
   "source": [
    "#Compute p0(x) and p1(x)\n",
    "p0 = phi0\n",
    "p1 = phi1 - (inner(phi1,p0,a,b)/inner(p0,p0,a,b))*p0\n",
    "\n",
    "#Now do the same for p2(x) and, finally, for p3(x)\n",
    "p2 = \n",
    "\n",
    "p3 = "
   ]
  },
  {
   "cell_type": "markdown",
   "id": "c7ad7df9",
   "metadata": {},
   "source": [
    "### b) Finding the quadrature points\n",
    "\n",
    "With the orthogonal basis now known, we can find the quadrature points by simply taking the roots of $p_3(x)$. But how to find the roots of a third-order polynomial? You can either do it numerically, using your favourite technique, but there is a simple way to do it analytically here. Since we have an $\\textit{odd}$ number of integration points, symmetry tells us that the center of the interval, in this case $x=1/2$, $\\textit{will}$ be a quadrature point. Therefore, we know that $x_2 = 1/2$ is one of the roots of $p_3(x)$. We can then devide $p_3(x)$ by $x-1/2$ to get a second-degree polynomial (for which a closed expression exists for the roots, of course!). If you do not remember how to divide polynomials by hand, you can use the \"div\" function already included in the symbolic package:"
   ]
  },
  {
   "cell_type": "code",
   "execution_count": null,
   "id": "44fcad6d",
   "metadata": {
    "scrolled": true
   },
   "outputs": [
    {
     "ename": "NameError",
     "evalue": "name 'p3' is not defined",
     "output_type": "error",
     "traceback": [
      "\u001b[0;31m---------------------------------------------------------------------------\u001b[0m",
      "\u001b[0;31mNameError\u001b[0m                                 Traceback (most recent call last)",
      "\u001b[0;32m<ipython-input-6-40375041557c>\u001b[0m in \u001b[0;36m<module>\u001b[0;34m\u001b[0m\n\u001b[1;32m      3\u001b[0m \u001b[0;34m\u001b[0m\u001b[0m\n\u001b[1;32m      4\u001b[0m \u001b[0;31m#Create a quadratic polynomial q2(x) = p3(x)/(x-1/2)\u001b[0m\u001b[0;34m\u001b[0m\u001b[0;34m\u001b[0m\u001b[0;34m\u001b[0m\u001b[0m\n\u001b[0;32m----> 5\u001b[0;31m \u001b[0mq2\u001b[0m \u001b[0;34m=\u001b[0m \u001b[0msym\u001b[0m\u001b[0;34m.\u001b[0m\u001b[0mdiv\u001b[0m\u001b[0;34m(\u001b[0m\u001b[0mp3\u001b[0m\u001b[0;34m,\u001b[0m\u001b[0mx\u001b[0m\u001b[0;34m-\u001b[0m\u001b[0;36m1\u001b[0m\u001b[0;34m/\u001b[0m\u001b[0;36m2\u001b[0m\u001b[0;34m)\u001b[0m\u001b[0;34m\u001b[0m\u001b[0;34m\u001b[0m\u001b[0m\n\u001b[0m\u001b[1;32m      6\u001b[0m \u001b[0mprint\u001b[0m\u001b[0;34m(\u001b[0m\u001b[0mq2\u001b[0m\u001b[0;34m)\u001b[0m\u001b[0;34m\u001b[0m\u001b[0;34m\u001b[0m\u001b[0m\n\u001b[1;32m      7\u001b[0m \"\"\"\n",
      "\u001b[0;31mNameError\u001b[0m: name 'p3' is not defined"
     ]
    }
   ],
   "source": [
    "#Known root\n",
    "x2 = 1/2\n",
    "\n",
    "#Create a quadratic polynomial q2(x) = p3(x)/(x-1/2)\n",
    "q2 = sym.div(p3,x-x2)\n",
    "print(q2)\n",
    "\"\"\"\n",
    "Remark: the number appearing beside the polynomial is simply the rest of the division. If it is not a very small\n",
    "number (a \"machine zero\"), then you probably computed p3(x) incorrectly. \n",
    "\"\"\" \n",
    "\n",
    "#Now use Bhaskara's formula to find roots of q2"
   ]
  },
  {
   "cell_type": "markdown",
   "id": "3fba4cb3",
   "metadata": {},
   "source": [
    "### c) Computing the integration weights\n",
    "\n",
    "In the previous exercie sheet, we used the function \"cardinal\" to compute and evaluate Lagrangian basis functions numerically. Now we will do this symbolically, to allow using the \"integrate\" function"
   ]
  },
  {
   "cell_type": "code",
   "execution_count": null,
   "id": "002a9857",
   "metadata": {},
   "outputs": [
    {
     "ename": "SyntaxError",
     "evalue": "invalid syntax (564621276.py, line 6)",
     "output_type": "error",
     "traceback": [
      "\u001b[0;36m  File \u001b[0;32m\"/var/folders/6f/8h4yrgm92sl6tvs386dnj05m0000gn/T/ipykernel_74070/564621276.py\"\u001b[0;36m, line \u001b[0;32m6\u001b[0m\n\u001b[0;31m    L2 =\u001b[0m\n\u001b[0m         ^\u001b[0m\n\u001b[0;31mSyntaxError\u001b[0m\u001b[0;31m:\u001b[0m invalid syntax\n"
     ]
    }
   ],
   "source": [
    "#Construct the first cardinal function l1 and compute the weight w1\n",
    "L1 = ((x-x2)/(x1-x2))*((x-x3)/(x1-x3))\n",
    "w1 = integrate(L1, (x, a, b))\n",
    "\n",
    "#Now do the same for the other two weights \n",
    "L2 = \n",
    "w2 = \n",
    "\n",
    "L3 = \n",
    "w3 =\n",
    "\n",
    "#Print the weights\n",
    "print(w1)\n",
    "print(w2)\n",
    "print(w3)"
   ]
  },
  {
   "cell_type": "markdown",
   "id": "3bc48b50",
   "metadata": {},
   "source": [
    "### d) Integrating polynomials\n",
    "\n",
    "We can finally use the weights and points to construct our quadrature rule:\n",
    "\\begin{align*}\n",
    "\\int_{0}^{1} f(x) \\, \\mathrm{d}x \\approx \\sum_{j=1}^3 w_jf(x_j)\\, ,\n",
    "\\end{align*}\n",
    "and in particular to integrate $f(x) = x^5$, obtaining exactly 1/6:"
   ]
  },
  {
   "cell_type": "code",
   "execution_count": null,
   "id": "e156923e",
   "metadata": {},
   "outputs": [
    {
     "data": {
      "text/latex": [
       "$\\displaystyle 0.166666666666667$"
      ],
      "text/plain": [
       "0.166666666666667"
      ]
     },
     "execution_count": 57,
     "metadata": {},
     "output_type": "execute_result"
    }
   ],
   "source": [
    "#Use the quadrature to integrate x^5\n",
    "w1*Poly(x**5).eval(x1) + w2*Poly(x**5).eval(x2) + w3*Poly(x**5).eval(x3)"
   ]
  },
  {
   "cell_type": "markdown",
   "id": "7300ee62",
   "metadata": {},
   "source": [
    "If you do the same for $x^4, x^3, ..., 1$, you will see that all of them are also integrated exactly. In other words, the 3-point Gauss-Legendre quadrature integrates any fifth-degree polynomial exactly. "
   ]
  },
  {
   "cell_type": "markdown",
   "id": "ecc146e2",
   "metadata": {},
   "source": [
    "### e) Linear transformation\n",
    "\n",
    "Notice that \n",
    "\\begin{align*}\n",
    "x(\\hat{x}) = \\frac{a+b}{2} + \\frac{b-a}{2}\\hat{x} = \\frac{1+\\hat{x}}{2}\\, ,\n",
    "\\end{align*}\n",
    "where $\\hat{x}$ refers to the reference points in the interval $[-1,1]$. Hence: \n",
    "\\begin{align*}\n",
    "& x_1 = x(\\hat{x}_1) = \\\\\n",
    "& x_2 = x(\\hat{x}_2) = \\\\\n",
    "& x_3 = x(\\hat{x}_3) =\n",
    "\\end{align*}\n",
    "Also, \n",
    "\\begin{align*}\n",
    "w_i = \\hat{w}_i\\frac{\\mathrm{d} x}{\\mathrm{d}\\hat{x}} = \n",
    "\\end{align*}"
   ]
  },
  {
   "cell_type": "code",
   "execution_count": null,
   "id": "db239fde",
   "metadata": {},
   "outputs": [],
   "source": []
  }
 ],
 "metadata": {
  "kernelspec": {
   "display_name": ".venv",
   "language": "python",
   "name": "python3"
  },
  "language_info": {
   "codemirror_mode": {
    "name": "ipython",
    "version": 3
   },
   "file_extension": ".py",
   "mimetype": "text/x-python",
   "name": "python",
   "nbconvert_exporter": "python",
   "pygments_lexer": "ipython3",
   "version": "3.13.7"
  }
 },
 "nbformat": 4,
 "nbformat_minor": 5
}
