{
 "cells": [
  {
   "cell_type": "markdown",
   "id": "9f8556e0",
   "metadata": {},
   "source": [
    "# Numerical solution of ODEs\n",
    "In this problem we will implement Euler's method, second order Taylor's method, and Heun's method, and use them to approximate the solution to the ODE,\n",
    "\\begin{align*}\n",
    "\ty' = (1-2t) y, \\quad y(0) = 1.\n",
    "\\end{align*}\n",
    "The exact solution to this equation is $y(t) = \\mathrm{e}^{t-t^2}$."
   ]
  },
  {
   "cell_type": "code",
   "execution_count": null,
   "id": "7a8faa46",
   "metadata": {},
   "outputs": [],
   "source": [
    "import numpy as np\n",
    "import matplotlib.pyplot as plt"
   ]
  },
  {
   "cell_type": "code",
   "execution_count": null,
   "id": "2de5da2a",
   "metadata": {},
   "outputs": [],
   "source": [
    "# define the derivatives of y\n",
    "\n",
    "def d_y(t, y):\n",
    "    # first derivative of y\n",
    "    return \n",
    "\n",
    "def dd_y(t, y):\n",
    "    # second derivative (for second order Taylor method)\n",
    "    return \n",
    "\n",
    "# define y\n",
    "\n",
    "def y(t):\n",
    "    # y(t) (for error computations)\n",
    "    return "
   ]
  },
  {
   "cell_type": "markdown",
   "id": "29ac7411",
   "metadata": {},
   "source": [
    ">***\n",
    ">a) Implement Euler's method, and compute an approximation of $y(1)$, using a step size equal to $0.5$.\n",
    ">***"
   ]
  },
  {
   "cell_type": "code",
   "execution_count": null,
   "id": "a5c76cee",
   "metadata": {},
   "outputs": [],
   "source": [
    "# Define Euler's method\n",
    "def Euler(y0, T, f, h):\n",
    "    \"\"\"\n",
    "        Euler(y0, T, f, h)\n",
    "    \n",
    "    Use Euler's method to approximate the solution of the ODE (scalar or system) y'(t) = f(t,y)\n",
    "    \n",
    "    Input:\n",
    "        y0 - initial value y(0)\n",
    "        f  - definition of the right-hand-side function\n",
    "        T  - simulation time (starting at t=0, ending at t=T)\n",
    "        h  - time-step size (fixed)\n",
    "    Output:\n",
    "        y  - array containing all discrete solution values y0,y1,y2,...\n",
    "        t  - array containing all discrete time instants 0,h,2h,...\n",
    "    \"\"\"\n",
    "    ys = [y0] #array where all y_n will be stored\n",
    "    ts = [0]  #array where all t_n will be stored\n",
    "\n",
    "    #Fill in the rest here\n",
    "\n",
    "    return (np.array(ts), np.array(ys))"
   ]
  },
  {
   "cell_type": "markdown",
   "id": "f1cdf36e",
   "metadata": {},
   "source": [
    ">***\n",
    ">b) Do the same using Heun's method and the second order Taylor method. The second order Taylor method is given by\n",
    ">$$y_{n+1} = y_n + hf(t_n,y_n) + \\frac{h^2}{2}f'(t_n,y_n),$$\n",
    ">where $f(t,y) = y'(t)$ and thus $f'(t,y) := \\frac{\\partial f}{\\partial t}(t,y) = y''(t)$.\n",
    ">***"
   ]
  },
  {
   "cell_type": "code",
   "execution_count": null,
   "id": "1046c4ee",
   "metadata": {},
   "outputs": [],
   "source": [
    "# Define Heun's method\n",
    "def Heun(y0, T, f, h):\n",
    "    \"\"\"\n",
    "        Heun(y0, T, f, h)\n",
    "    \n",
    "    Use Heun's method to approximate the solution of the ODE (scalar or system) y'(t) = f(t,y)\n",
    "    \n",
    "    Input:\n",
    "        y0 - initial value y(0)\n",
    "        f  - definition of the right-hand-side function\n",
    "        T  - simulation time (starting at t=0, ending at t=T)\n",
    "        h  - time-step size (fixed)\n",
    "    Output:\n",
    "        y  - array containing all discrete solution values y0,y1,y2,...\n",
    "        t  - array containing all discrete time instants 0,h,2h,...\n",
    "    \"\"\"\n",
    "    ys = [y0] #array where all y_n will be stored\n",
    "    ts = [0]  #array where all t_n will be stored\n",
    "\n",
    "    #Fill in the rest here\n",
    "\n",
    "    return (np.array(ts), np.array(ys))"
   ]
  },
  {
   "cell_type": "code",
   "execution_count": null,
   "id": "8a0e46c4",
   "metadata": {},
   "outputs": [],
   "source": [
    "# Define the second-order Taylor method\n",
    "def scalarTaylor2(y0, T, f, DfDt, h):\n",
    "    \"\"\"\n",
    "        scalarTaylor2(y0, T, f, h)\n",
    "    \n",
    "    Use the second-order Taylor method to approximate the solution of the scalar ODE y'(t) = f(t,y)\n",
    "    \n",
    "    Input:\n",
    "        y0   - initial value y(0)\n",
    "        f    - definition of the right-hand-side function\n",
    "        DfDt - definition of the total time derivative of f\n",
    "        T    - simulation time (starting at t=0, ending at t=T)\n",
    "        h    - time-step size (fixed)\n",
    "    Output:\n",
    "        y  - vector containing all discrete solution values y0,y1,y2,...\n",
    "        t  - vector containing all discrete time instants 0,h,2h,...\n",
    "    \"\"\"\n",
    "    ys = [y0] #array where all y_n will be stored\n",
    "    ts = [0]  #array where all t_n will be stored\n",
    "    while(ts[-1] < T):\n",
    "        t, y = ts[-1], ys[-1]\n",
    "        ys.append(y + h*f(t,y) + 0.5*h*h*DfDt(t,y))\n",
    "        ts.append(t + h)\n",
    "    return (np.array(ts), np.array(ys))"
   ]
  },
  {
   "cell_type": "code",
   "execution_count": null,
   "id": "89e84ee9",
   "metadata": {},
   "outputs": [],
   "source": [
    "# compute the approximations using the different methods and h = 0.5"
   ]
  },
  {
   "cell_type": "markdown",
   "id": "d03f379c",
   "metadata": {},
   "source": [
    ">***\n",
    ">c) We now want to approximate the convergence orders of these methods numerically. Recall that we defined the global error,\n",
    "\\begin{align*}\n",
    "\t\\epsilon_g := \\max_i \\lvert y(t_i) - y_i \\rvert.\n",
    "\\end{align*}\n",
    ">If we assume that $\\epsilon_g(h) \\approx M h^p$, for some $M > 0$, we have,\n",
    "\\begin{align*}\n",
    "\t\\log \\bigg(\\frac{\\epsilon_g(h_1)}{\\epsilon_g(h_2)} \\bigg) \\approx p \\log \\bigg(\\frac{h_1}{h_2} \\bigg).\n",
    "\\end{align*}\n",
    ">Compute the global error of the methods from a)-c) using $h_1 = 10^{-2}$ and $h_2 = 10^{-3}$, where $t_i = i h, i = 1, \\dots, \\frac{1}{h}$. Use this to approximate the convergence order, $p$, for each of the three methods.\n",
    ">***"
   ]
  },
  {
   "cell_type": "code",
   "execution_count": null,
   "id": "eb4e6def",
   "metadata": {},
   "outputs": [],
   "source": [
    "# approximate convergence order for each method\n",
    "\n",
    "h1 = 1e-2\n",
    "\n",
    "h2 = 1e-3\n",
    "\n",
    "# Euler's method\n",
    "\n",
    "\n",
    "# Heun's method\n",
    "\n",
    "\n",
    "# second order Taylor's method\n",
    "ts,ys = scalarTaylor2(1., 1., d_y, dd_y, h1)\n",
    "e1 = np.linalg.norm(ys - y(ts), np.inf)\n"
   ]
  },
  {
   "cell_type": "markdown",
   "id": "c080391b",
   "metadata": {},
   "source": [
    ">***\n",
    ">d) We can also approximate the convergence order by plotting $\\log(\\epsilon_g(h)) = \\log(M) + p \\log(h)$ versus $\\log(h)$, and inspecting the slope of the function.\\\\\n",
    ">Plot $\\log(\\epsilon_g(h))$ versus $\\log(h)$ for $h = 10^{-2}, 10^{-3}, 10^{-4}$ for each of the three methods.\n",
    ">***"
   ]
  },
  {
   "cell_type": "code",
   "execution_count": null,
   "id": "ab1ffaef",
   "metadata": {},
   "outputs": [],
   "source": [
    "# plot log(error) versus log(h) \n",
    "\n",
    "# values of h\n",
    "hs = [1e-2, 1e-3, 1e-4]\n",
    "\n",
    "errors_Euler = []\n",
    "errors_Heun = []\n",
    "errors_Taylor2 = []\n",
    "for h in hs:\n",
    "    # Euler's method error\n",
    "\n",
    "    # Heun's method error\n",
    "\n",
    "    # second order Taylor method error\n",
    "\n",
    "\n",
    "# plot of Euler's method errors\n",
    "\n",
    "\n",
    "# plot of Heun's method errors\n",
    "\n",
    "# plot of second order Taylor error\n",
    "plt.plot(np.log(hs), np.log(errors_Taylor2), label=\"Taylor's method\")\n",
    "\n",
    "plt.legend()"
   ]
  }
 ],
 "metadata": {
  "kernelspec": {
   "display_name": "Python 3 (ipykernel)",
   "language": "python",
   "name": "python3"
  },
  "language_info": {
   "codemirror_mode": {
    "name": "ipython",
    "version": 3
   },
   "file_extension": ".py",
   "mimetype": "text/x-python",
   "name": "python",
   "nbconvert_exporter": "python",
   "pygments_lexer": "ipython3",
   "version": "3.8.15"
  }
 },
 "nbformat": 4,
 "nbformat_minor": 5
}
