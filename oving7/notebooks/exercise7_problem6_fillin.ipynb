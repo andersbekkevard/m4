{
 "cells": [
  {
   "cell_type": "markdown",
   "id": "a1cc010d",
   "metadata": {},
   "source": [
    "# Numerical solution of ODEs"
   ]
  },
  {
   "cell_type": "markdown",
   "id": "40b0d66f",
   "metadata": {},
   "source": [
    "First the necessary imports and the function definitions we need for this task."
   ]
  },
  {
   "cell_type": "code",
   "execution_count": 14,
   "id": "7a8faa46",
   "metadata": {},
   "outputs": [],
   "source": [
    "import numpy as np\n",
    "import matplotlib.pyplot as plt"
   ]
  },
  {
   "cell_type": "code",
   "execution_count": 15,
   "id": "2de5da2a",
   "metadata": {},
   "outputs": [],
   "source": [
    "# define the derivatives of y\n",
    "\n",
    "def d_y(t, y):\n",
    "    # first derivative of y\n",
    "    return -y\n",
    "\n",
    "def dd_y(t, y):\n",
    "    # second derivative (for second order Taylor method)\n",
    "    return y\n",
    "\n",
    "# define y\n",
    "\n",
    "def y(t):\n",
    "    # y(t) (for error computations)\n",
    "    return np.exp(-t)"
   ]
  },
  {
   "cell_type": "markdown",
   "id": "bf0feaff",
   "metadata": {},
   "source": [
    "***\n",
    "a) Implement Euler's method and compute an approximation of $y(1)$ using a step size of $h=0.1$.\n",
    "***"
   ]
  },
  {
   "cell_type": "code",
   "execution_count": 16,
   "id": "a5c76cee",
   "metadata": {},
   "outputs": [],
   "source": [
    "# Define Euler's method\n",
    "def Euler(y0, T, f, h):\n",
    "    \"\"\"\n",
    "        Euler(y0, T, f, h)\n",
    "    \n",
    "    Use Euler's method to approximate the solution of the ODE (scalar or system) y'(t) = f(t,y)\n",
    "    \n",
    "    Input:\n",
    "        y0 - initial value y(0)\n",
    "        f  - definition of the right-hand-side function\n",
    "        T  - simulation time (starting at t=0, ending at t=T)\n",
    "        h  - time-step size (fixed)\n",
    "    Output:\n",
    "        y  - array containing all discrete solution values y0,y1,y2,...\n",
    "        t  - array containing all discrete time instants 0,h,2h,...\n",
    "    \"\"\"\n",
    "    ys = [y0] #array where all y_n will be stored\n",
    "    ts = [0]  #array where all t_n will be stored\n",
    "    while(ts[-1] < T):\n",
    "        t, y = ts[-1], ys[-1]\n",
    "        ys.append(y + h*f(t, y))\n",
    "        ts.append(t + h)\n",
    "    return (np.array(ts), np.array(ys))"
   ]
  },
  {
   "cell_type": "code",
   "execution_count": 17,
   "id": "1725362e",
   "metadata": {},
   "outputs": [
    {
     "data": {
      "text/plain": [
       "np.float64(2.100000000000001)"
      ]
     },
     "execution_count": 17,
     "metadata": {},
     "output_type": "execute_result"
    }
   ],
   "source": [
    "# y(1) for Euler's method\n",
    "Euler(1., 1., d_y, 0.1)[1][-1]"
   ]
  },
  {
   "cell_type": "markdown",
   "id": "8e34b8f6",
   "metadata": {},
   "source": [
    "***\n",
    "b) Repeat this with the second order Taylor method and Heun's method.\n",
    "***"
   ]
  },
  {
   "cell_type": "code",
   "execution_count": 18,
   "id": "8a0e46c4",
   "metadata": {},
   "outputs": [],
   "source": [
    "# Define the second-order Taylor method\n",
    "def Taylor2(y0, T, f, df, h):\n",
    "    \"\"\"\n",
    "        Taylor2(y0, T, f, df, h)\n",
    "    \n",
    "    Use second-order Taylor method to approximate the solution of the ODE y'(t) = f(t,y)\n",
    "    \n",
    "    Input:\n",
    "        y0 - initial value y(0)\n",
    "        f  - definition of the right-hand-side function\n",
    "        df - derivative of f with respect to y\n",
    "        T  - simulation time (starting at t=0, ending at t=T)\n",
    "        h  - time-step size (fixed)\n",
    "    Output:\n",
    "        y  - array containing all discrete solution values y0,y1,y2,...\n",
    "        t  - array containing all discrete time instants 0,h,2h,...\n",
    "    \"\"\"\n",
    "    ys = [y0]  # array where all y_n will be stored\n",
    "    ts = [0]   # array where all t_n will be stored\n",
    "    while(ts[-1] < T):\n",
    "        t, y = ts[-1], ys[-1]\n",
    "        ys.append(y + h*f(t, y) + (h**2/2)*df(t, y))\n",
    "        ts.append(t + h)\n",
    "    return (np.array(ts), np.array(ys))"
   ]
  },
  {
   "cell_type": "code",
   "execution_count": 19,
   "id": "1046c4ee",
   "metadata": {},
   "outputs": [],
   "source": [
    "# Define Heun's method\n",
    "def Heun(y0, T, f, h):\n",
    "    \"\"\"\n",
    "        Heun(y0, T, f, h)\n",
    "    \n",
    "    Use Heun's method to approximate the solution of the ODE y'(t) = f(t,y)\n",
    "    \n",
    "    Input:\n",
    "        y0 - initial value y(0)\n",
    "        f  - definition of the right-hand-side function\n",
    "        T  - simulation time (starting at t=0, ending at t=T)\n",
    "        h  - time-step size (fixed)\n",
    "    Output:\n",
    "        y  - array containing all discrete solution values y0,y1,y2,...\n",
    "        t  - array containing all discrete time instants 0,h,2h,...\n",
    "    \"\"\"\n",
    "    ys = [y0]  # array where all y_n will be stored\n",
    "    ts = [0]   # array where all t_n will be stored\n",
    "    while(ts[-1] < T):\n",
    "        t, y = ts[-1], ys[-1]\n",
    "        # Predictor step\n",
    "        y_pred = y + h * f(t, y)\n",
    "        # Corrector step\n",
    "        ys.append(y + (h/2) * (f(t, y) + f(t + h, y_pred)))\n",
    "        ts.append(t + h)\n",
    "    return (np.array(ts), np.array(ys))"
   ]
  },
  {
   "cell_type": "code",
   "execution_count": 20,
   "id": "5b4288ac",
   "metadata": {},
   "outputs": [
    {
     "data": {
      "text/plain": [
       "np.float64(2.100000000000001)"
      ]
     },
     "execution_count": 20,
     "metadata": {},
     "output_type": "execute_result"
    }
   ],
   "source": [
    "# approximate y(1) using the methods and h = 0.1\n",
    "\n",
    "# exact value of y(1)\n",
    "np.exp(-1.)\n",
    "\n",
    "# y(1) for Euler's method\n",
    "Euler(1., 1., d_y, 0.1)[1][-1]\n",
    "\n",
    "# y(1) for Heun's method\n",
    "Heun(1., 1., d_y, 0.1)[1][-1]\n",
    "\n",
    "# y(1) for second order Taylor's method\n",
    "Taylor2(1., 1., d_y, dd_y, 0.1)[1][-1]"
   ]
  },
  {
   "cell_type": "markdown",
   "id": "44b25281",
   "metadata": {},
   "source": [
    "***\n",
    "d)  We now want to approximate the convergence orders of these methods numerically. Recall that we defined the global error,\n",
    "\t$$\n",
    "\t\t\\epsilon_g := \\max_i \\lvert y(t_i) - y_i \\rvert.\n",
    "\t$$\n",
    "\tIf we assume that $\\epsilon_g(h) \\approx M h^p$, for some $M > 0$, we have,\n",
    "\t$$\n",
    "\t\t\\log \\bigg(\\frac{\\epsilon_g(h_1)}{\\epsilon_g(h_2)} \\bigg) \\approx p \\log \\bigg(\\frac{h_1}{h_2} \\bigg).\n",
    "\t$$\n",
    "\tCompute the global error of the methods from a)-c) using $h_1 = 10^{-2}$ and $h_2 = 10^{-3}$, where $t_i = i h, i = 1, \\dots, \\frac{1}{h}$. Use this to approximate the convergence order, $p$, for each of the three methods.\n",
    "***"
   ]
  },
  {
   "cell_type": "code",
   "execution_count": 21,
   "id": "eb4e6def",
   "metadata": {},
   "outputs": [],
   "source": [
    "# approximate convergence order for each method\n",
    "\n",
    "h1 = 1e-2\n",
    "\n",
    "h2 = 1e-3\n",
    "\n",
    "# Euler's method\n",
    "ts,ys = Euler(1., 1., d_y, h1)\n",
    "e1 = np.linalg.norm(ys - y(ts), np.inf)\n",
    "ts2,ys2 = Euler(1., 1., d_y, h2)\n",
    "e2 = np.linalg.norm(ys2 - y(ts2), np.inf)\n",
    "p_Euler = np.log(e1/e2) / np.log(h1/h2)\n",
    "print(f\"Euler's method convergence order: {p_Euler}\")\n",
    "\n",
    "# Heun's method\n",
    "ts,ys = Heun(1., 1., d_y, h1)\n",
    "e1 = np.linalg.norm(ys - y(ts), np.inf)\n",
    "ts2,ys2 = Heun(1., 1., d_y, h2)\n",
    "e2 = np.linalg.norm(ys2 - y(ts2), np.inf)\n",
    "p_Heun = np.log(e1/e2) / np.log(h1/h2)\n",
    "print(f\"Heun's method convergence order: {p_Heun}\")\n",
    "\n",
    "# second order Taylor's method\n",
    "ts,ys = Taylor2(1., 1., d_y, dd_y, h1)\n",
    "e1 = np.linalg.norm(ys - y(ts), np.inf)\n",
    "ts2,ys2 = Taylor2(1., 1., d_y, dd_y, h2)\n",
    "e2 = np.linalg.norm(ys2 - y(ts2), np.inf)\n",
    "p_Taylor2 = np.log(e1/e2) / np.log(h1/h2)\n",
    "print(f\"Second-order Taylor method convergence order: {p_Taylor2}\")\n"
   ]
  },
  {
   "cell_type": "markdown",
   "id": "1aa987e5",
   "metadata": {},
   "source": [
    "***\n",
    "e) We can also approximate the convergence order by plotting $\\log(\\epsilon_g(h)) = \\log(M) + p \\log(h)$ versus $\\log(h)$, and inspecting the slope of the function.\n",
    "Plot $\\log(\\epsilon_g(h))$ versus $\\log(h)$ for $h = 10^{-2}, 10^{-3}, 10^{-4}$ for each of the three methods.\n",
    "***"
   ]
  },
  {
   "cell_type": "code",
   "execution_count": 22,
   "id": "ab1ffaef",
   "metadata": {},
   "outputs": [
    {
     "ename": "ValueError",
     "evalue": "x and y must have same first dimension, but have shapes (3,) and (0,)",
     "output_type": "error",
     "traceback": [
      "\u001b[31m---------------------------------------------------------------------------\u001b[39m",
      "\u001b[31mValueError\u001b[39m                                Traceback (most recent call last)",
      "\u001b[36mCell\u001b[39m\u001b[36m \u001b[39m\u001b[32mIn[22]\u001b[39m\u001b[32m, line 19\u001b[39m\n\u001b[32m     10\u001b[39m     \u001b[38;5;28;01mcontinue\u001b[39;00m\n\u001b[32m     11\u001b[39m     \u001b[38;5;66;03m# Euler's method error\u001b[39;00m\n\u001b[32m     12\u001b[39m \n\u001b[32m     13\u001b[39m     \u001b[38;5;66;03m# Heun's method error\u001b[39;00m\n\u001b[32m   (...)\u001b[39m\u001b[32m     17\u001b[39m \n\u001b[32m     18\u001b[39m \u001b[38;5;66;03m# plot of Euler's method errors\u001b[39;00m\n\u001b[32m---> \u001b[39m\u001b[32m19\u001b[39m \u001b[43mplt\u001b[49m\u001b[43m.\u001b[49m\u001b[43mplot\u001b[49m\u001b[43m(\u001b[49m\u001b[43mnp\u001b[49m\u001b[43m.\u001b[49m\u001b[43mlog\u001b[49m\u001b[43m(\u001b[49m\u001b[43mhs\u001b[49m\u001b[43m)\u001b[49m\u001b[43m,\u001b[49m\u001b[43m \u001b[49m\u001b[43mnp\u001b[49m\u001b[43m.\u001b[49m\u001b[43mlog\u001b[49m\u001b[43m(\u001b[49m\u001b[43merrors_Euler\u001b[49m\u001b[43m)\u001b[49m\u001b[43m,\u001b[49m\u001b[43m \u001b[49m\u001b[43mlabel\u001b[49m\u001b[43m=\u001b[49m\u001b[33;43m\"\u001b[39;49m\u001b[33;43mEuler\u001b[39;49m\u001b[33;43m'\u001b[39;49m\u001b[33;43ms method\u001b[39;49m\u001b[33;43m\"\u001b[39;49m\u001b[43m)\u001b[49m\n\u001b[32m     21\u001b[39m \u001b[38;5;66;03m# plot of Heun's method errors\u001b[39;00m\n\u001b[32m     22\u001b[39m \n\u001b[32m     23\u001b[39m \n\u001b[32m     24\u001b[39m \u001b[38;5;66;03m# plot of second order Taylor error\u001b[39;00m\n\u001b[32m     27\u001b[39m plt.legend()\n",
      "\u001b[36mFile \u001b[39m\u001b[32m~/dev/python/school/m4/.venv/lib/python3.13/site-packages/matplotlib/pyplot.py:3838\u001b[39m, in \u001b[36mplot\u001b[39m\u001b[34m(scalex, scaley, data, *args, **kwargs)\u001b[39m\n\u001b[32m   3830\u001b[39m \u001b[38;5;129m@_copy_docstring_and_deprecators\u001b[39m(Axes.plot)\n\u001b[32m   3831\u001b[39m \u001b[38;5;28;01mdef\u001b[39;00m\u001b[38;5;250m \u001b[39m\u001b[34mplot\u001b[39m(\n\u001b[32m   3832\u001b[39m     *args: \u001b[38;5;28mfloat\u001b[39m | ArrayLike | \u001b[38;5;28mstr\u001b[39m,\n\u001b[32m   (...)\u001b[39m\u001b[32m   3836\u001b[39m     **kwargs,\n\u001b[32m   3837\u001b[39m ) -> \u001b[38;5;28mlist\u001b[39m[Line2D]:\n\u001b[32m-> \u001b[39m\u001b[32m3838\u001b[39m     \u001b[38;5;28;01mreturn\u001b[39;00m \u001b[43mgca\u001b[49m\u001b[43m(\u001b[49m\u001b[43m)\u001b[49m\u001b[43m.\u001b[49m\u001b[43mplot\u001b[49m\u001b[43m(\u001b[49m\n\u001b[32m   3839\u001b[39m \u001b[43m        \u001b[49m\u001b[43m*\u001b[49m\u001b[43margs\u001b[49m\u001b[43m,\u001b[49m\n\u001b[32m   3840\u001b[39m \u001b[43m        \u001b[49m\u001b[43mscalex\u001b[49m\u001b[43m=\u001b[49m\u001b[43mscalex\u001b[49m\u001b[43m,\u001b[49m\n\u001b[32m   3841\u001b[39m \u001b[43m        \u001b[49m\u001b[43mscaley\u001b[49m\u001b[43m=\u001b[49m\u001b[43mscaley\u001b[49m\u001b[43m,\u001b[49m\n\u001b[32m   3842\u001b[39m \u001b[43m        \u001b[49m\u001b[43m*\u001b[49m\u001b[43m*\u001b[49m\u001b[43m(\u001b[49m\u001b[43m{\u001b[49m\u001b[33;43m\"\u001b[39;49m\u001b[33;43mdata\u001b[39;49m\u001b[33;43m\"\u001b[39;49m\u001b[43m:\u001b[49m\u001b[43m \u001b[49m\u001b[43mdata\u001b[49m\u001b[43m}\u001b[49m\u001b[43m \u001b[49m\u001b[38;5;28;43;01mif\u001b[39;49;00m\u001b[43m \u001b[49m\u001b[43mdata\u001b[49m\u001b[43m \u001b[49m\u001b[38;5;129;43;01mis\u001b[39;49;00m\u001b[43m \u001b[49m\u001b[38;5;129;43;01mnot\u001b[39;49;00m\u001b[43m \u001b[49m\u001b[38;5;28;43;01mNone\u001b[39;49;00m\u001b[43m \u001b[49m\u001b[38;5;28;43;01melse\u001b[39;49;00m\u001b[43m \u001b[49m\u001b[43m{\u001b[49m\u001b[43m}\u001b[49m\u001b[43m)\u001b[49m\u001b[43m,\u001b[49m\n\u001b[32m   3843\u001b[39m \u001b[43m        \u001b[49m\u001b[43m*\u001b[49m\u001b[43m*\u001b[49m\u001b[43mkwargs\u001b[49m\u001b[43m,\u001b[49m\n\u001b[32m   3844\u001b[39m \u001b[43m    \u001b[49m\u001b[43m)\u001b[49m\n",
      "\u001b[36mFile \u001b[39m\u001b[32m~/dev/python/school/m4/.venv/lib/python3.13/site-packages/matplotlib/axes/_axes.py:1777\u001b[39m, in \u001b[36mAxes.plot\u001b[39m\u001b[34m(self, scalex, scaley, data, *args, **kwargs)\u001b[39m\n\u001b[32m   1534\u001b[39m \u001b[38;5;250m\u001b[39m\u001b[33;03m\"\"\"\u001b[39;00m\n\u001b[32m   1535\u001b[39m \u001b[33;03mPlot y versus x as lines and/or markers.\u001b[39;00m\n\u001b[32m   1536\u001b[39m \n\u001b[32m   (...)\u001b[39m\u001b[32m   1774\u001b[39m \u001b[33;03m(``'green'``) or hex strings (``'#008000'``).\u001b[39;00m\n\u001b[32m   1775\u001b[39m \u001b[33;03m\"\"\"\u001b[39;00m\n\u001b[32m   1776\u001b[39m kwargs = cbook.normalize_kwargs(kwargs, mlines.Line2D)\n\u001b[32m-> \u001b[39m\u001b[32m1777\u001b[39m lines = [*\u001b[38;5;28mself\u001b[39m._get_lines(\u001b[38;5;28mself\u001b[39m, *args, data=data, **kwargs)]\n\u001b[32m   1778\u001b[39m \u001b[38;5;28;01mfor\u001b[39;00m line \u001b[38;5;129;01min\u001b[39;00m lines:\n\u001b[32m   1779\u001b[39m     \u001b[38;5;28mself\u001b[39m.add_line(line)\n",
      "\u001b[36mFile \u001b[39m\u001b[32m~/dev/python/school/m4/.venv/lib/python3.13/site-packages/matplotlib/axes/_base.py:297\u001b[39m, in \u001b[36m_process_plot_var_args.__call__\u001b[39m\u001b[34m(self, axes, data, return_kwargs, *args, **kwargs)\u001b[39m\n\u001b[32m    295\u001b[39m     this += args[\u001b[32m0\u001b[39m],\n\u001b[32m    296\u001b[39m     args = args[\u001b[32m1\u001b[39m:]\n\u001b[32m--> \u001b[39m\u001b[32m297\u001b[39m \u001b[38;5;28;01myield from\u001b[39;00m \u001b[38;5;28;43mself\u001b[39;49m\u001b[43m.\u001b[49m\u001b[43m_plot_args\u001b[49m\u001b[43m(\u001b[49m\n\u001b[32m    298\u001b[39m \u001b[43m    \u001b[49m\u001b[43maxes\u001b[49m\u001b[43m,\u001b[49m\u001b[43m \u001b[49m\u001b[43mthis\u001b[49m\u001b[43m,\u001b[49m\u001b[43m \u001b[49m\u001b[43mkwargs\u001b[49m\u001b[43m,\u001b[49m\u001b[43m \u001b[49m\u001b[43mambiguous_fmt_datakey\u001b[49m\u001b[43m=\u001b[49m\u001b[43mambiguous_fmt_datakey\u001b[49m\u001b[43m,\u001b[49m\n\u001b[32m    299\u001b[39m \u001b[43m    \u001b[49m\u001b[43mreturn_kwargs\u001b[49m\u001b[43m=\u001b[49m\u001b[43mreturn_kwargs\u001b[49m\n\u001b[32m    300\u001b[39m \u001b[43m\u001b[49m\u001b[43m)\u001b[49m\n",
      "\u001b[36mFile \u001b[39m\u001b[32m~/dev/python/school/m4/.venv/lib/python3.13/site-packages/matplotlib/axes/_base.py:494\u001b[39m, in \u001b[36m_process_plot_var_args._plot_args\u001b[39m\u001b[34m(self, axes, tup, kwargs, return_kwargs, ambiguous_fmt_datakey)\u001b[39m\n\u001b[32m    491\u001b[39m     axes.yaxis.update_units(y)\n\u001b[32m    493\u001b[39m \u001b[38;5;28;01mif\u001b[39;00m x.shape[\u001b[32m0\u001b[39m] != y.shape[\u001b[32m0\u001b[39m]:\n\u001b[32m--> \u001b[39m\u001b[32m494\u001b[39m     \u001b[38;5;28;01mraise\u001b[39;00m \u001b[38;5;167;01mValueError\u001b[39;00m(\u001b[33mf\u001b[39m\u001b[33m\"\u001b[39m\u001b[33mx and y must have same first dimension, but \u001b[39m\u001b[33m\"\u001b[39m\n\u001b[32m    495\u001b[39m                      \u001b[33mf\u001b[39m\u001b[33m\"\u001b[39m\u001b[33mhave shapes \u001b[39m\u001b[38;5;132;01m{\u001b[39;00mx.shape\u001b[38;5;132;01m}\u001b[39;00m\u001b[33m and \u001b[39m\u001b[38;5;132;01m{\u001b[39;00my.shape\u001b[38;5;132;01m}\u001b[39;00m\u001b[33m\"\u001b[39m)\n\u001b[32m    496\u001b[39m \u001b[38;5;28;01mif\u001b[39;00m x.ndim > \u001b[32m2\u001b[39m \u001b[38;5;129;01mor\u001b[39;00m y.ndim > \u001b[32m2\u001b[39m:\n\u001b[32m    497\u001b[39m     \u001b[38;5;28;01mraise\u001b[39;00m \u001b[38;5;167;01mValueError\u001b[39;00m(\u001b[33mf\u001b[39m\u001b[33m\"\u001b[39m\u001b[33mx and y can be no greater than 2D, but have \u001b[39m\u001b[33m\"\u001b[39m\n\u001b[32m    498\u001b[39m                      \u001b[33mf\u001b[39m\u001b[33m\"\u001b[39m\u001b[33mshapes \u001b[39m\u001b[38;5;132;01m{\u001b[39;00mx.shape\u001b[38;5;132;01m}\u001b[39;00m\u001b[33m and \u001b[39m\u001b[38;5;132;01m{\u001b[39;00my.shape\u001b[38;5;132;01m}\u001b[39;00m\u001b[33m\"\u001b[39m)\n",
      "\u001b[31mValueError\u001b[39m: x and y must have same first dimension, but have shapes (3,) and (0,)"
     ]
    },
    {
     "data": {
      "image/png": "[encoded data removed]",
      "text/plain": [
       "<Figure size 640x480 with 1 Axes>"
      ]
     },
     "metadata": {},
     "output_type": "display_data"
    }
   ],
   "source": [
    "# plot log(error) versus log(h) \n",
    "\n",
    "# values of h\n",
    "hs = [1e-2, 1e-3, 1e-4]\n",
    "\n",
    "errors_Euler = []\n",
    "errors_Heun = []\n",
    "errors_Taylor2 = []\n",
    "for h in hs:\n",
    "    # Euler's method error\n",
    "    ts, ys = Euler(1., 1., d_y, h)\n",
    "    error = np.linalg.norm(ys - y(ts), np.inf)\n",
    "    errors_Euler.append(error)\n",
    "    \n",
    "    # Heun's method error\n",
    "    ts, ys = Heun(1., 1., d_y, h)\n",
    "    error = np.linalg.norm(ys - y(ts), np.inf)\n",
    "    errors_Heun.append(error)\n",
    "    \n",
    "    # second order Taylor method error\n",
    "    ts, ys = Taylor2(1., 1., d_y, dd_y, h)\n",
    "    error = np.linalg.norm(ys - y(ts), np.inf)\n",
    "    errors_Taylor2.append(error)\n",
    "\n",
    "# plot of Euler's method errors\n",
    "plt.plot(np.log(hs), np.log(errors_Euler), label=\"Euler's method\")\n",
    "\n",
    "# plot of Heun's method errors\n",
    "plt.plot(np.log(hs), np.log(errors_Heun), label=\"Heun's method\")\n",
    "\n",
    "# plot of second order Taylor error\n",
    "plt.plot(np.log(hs), np.log(errors_Taylor2), label=\"Second-order Taylor method\")\n",
    "\n",
    "plt.xlabel('log(h)')\n",
    "plt.ylabel('log(error)')\n",
    "plt.legend()\n",
    "plt.grid(True)"
   ]
  }
 ],
 "metadata": {
  "kernelspec": {
   "display_name": ".venv",
   "language": "python",
   "name": "python3"
  },
  "language_info": {
   "codemirror_mode": {
    "name": "ipython",
    "version": 3
   },
   "file_extension": ".py",
   "mimetype": "text/x-python",
   "name": "python",
   "nbconvert_exporter": "python",
   "pygments_lexer": "ipython3",
   "version": "3.13.7"
  }
 },
 "nbformat": 4,
 "nbformat_minor": 5
}
