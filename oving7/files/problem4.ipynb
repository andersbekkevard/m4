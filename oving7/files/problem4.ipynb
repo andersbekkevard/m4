{
 "cells": [
  {
   "cell_type": "code",
   "execution_count": 1,
   "id": "eb3a3641",
   "metadata": {},
   "outputs": [
    {
     "name": "stdout",
     "output_type": "stream",
     "text": [
      "y = 1.2699\n",
      "t = 1.0000\n"
     ]
    }
   ],
   "source": [
    "import numpy as np\n",
    "import matplotlib.pyplot as plt\n",
    "\n",
    "# Butcher table:\n",
    "# 0  | 0   0\n",
    "# 0.5| 0.5 0\n",
    "# ---|-------\n",
    "#    | 0   1\n",
    "\n",
    "\n",
    "def f(t, y):\n",
    "    return np.exp(-(y**2))\n",
    "\n",
    "\n",
    "t = 0\n",
    "y = 1\n",
    "h = 0.01\n",
    "\n",
    "t_target = 1\n",
    "\n",
    "while t < t_target:\n",
    "    k1 = f(t, y)\n",
    "    k2 = f(t + h / 2, y + h / 2 * k1)\n",
    "    y = y + h * k2\n",
    "    t = t + h\n",
    "\n",
    "print(f\"y = {y:.4f}\")\n",
    "print(f\"t = {t:.4f}\")\n",
    "\n",
    "# y = 1.2699\n",
    "# t = 1.0000\n"
   ]
  }
 ],
 "metadata": {
  "kernelspec": {
   "display_name": ".venv",
   "language": "python",
   "name": "python3"
  },
  "language_info": {
   "codemirror_mode": {
    "name": "ipython",
    "version": 3
   },
   "file_extension": ".py",
   "mimetype": "text/x-python",
   "name": "python",
   "nbconvert_exporter": "python",
   "pygments_lexer": "ipython3",
   "version": "3.13.7"
  }
 },
 "nbformat": 4,
 "nbformat_minor": 5
}
