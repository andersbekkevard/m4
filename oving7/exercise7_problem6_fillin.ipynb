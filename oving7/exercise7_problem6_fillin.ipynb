{
 "cells": [
  {
   "cell_type": "markdown",
   "id": "a1cc010d",
   "metadata": {},
   "source": [
    "# Numerical solution of ODEs"
   ]
  },
  {
   "cell_type": "markdown",
   "id": "40b0d66f",
   "metadata": {},
   "source": [
    "First the necessary imports and the function definitions we need for this task."
   ]
  },
  {
   "cell_type": "code",
   "execution_count": null,
   "id": "7a8faa46",
   "metadata": {},
   "outputs": [],
   "source": [
    "import numpy as np\n",
    "import matplotlib.pyplot as plt"
   ]
  },
  {
   "cell_type": "code",
   "execution_count": null,
   "id": "2de5da2a",
   "metadata": {},
   "outputs": [],
   "source": [
    "# define the derivatives of y\n",
    "\n",
    "def d_y(t, y):\n",
    "    # first derivative of y\n",
    "    return \n",
    "\n",
    "def dd_y(t, y):\n",
    "    # second derivative (for second order Taylor method)\n",
    "    return \n",
    "\n",
    "# define y\n",
    "\n",
    "def y(t):\n",
    "    # y(t) (for error computations)\n",
    "    return "
   ]
  },
  {
   "cell_type": "markdown",
   "id": "bf0feaff",
   "metadata": {},
   "source": [
    "***\n",
    "a) Implement Euler's method and compute an approximation of $y(1)$ using a step size of $h=0.1$.\n",
    "***"
   ]
  },
  {
   "cell_type": "code",
   "execution_count": null,
   "id": "a5c76cee",
   "metadata": {},
   "outputs": [],
   "source": [
    "# Define Euler's method\n",
    "def Euler(y0, T, f, h):\n",
    "    \"\"\"\n",
    "        Euler(y0, T, f, h)\n",
    "    \n",
    "    Use Euler's method to approximate the solution of the ODE (scalar or system) y'(t) = f(t,y)\n",
    "    \n",
    "    Input:\n",
    "        y0 - initial value y(0)\n",
    "        f  - definition of the right-hand-side function\n",
    "        T  - simulation time (starting at t=0, ending at t=T)\n",
    "        h  - time-step size (fixed)\n",
    "    Output:\n",
    "        y  - array containing all discrete solution values y0,y1,y2,...\n",
    "        t  - array containing all discrete time instants 0,h,2h,...\n",
    "    \"\"\"\n",
    "    ys = [y0] #array where all y_n will be stored\n",
    "    ts = [0]  #array where all t_n will be stored\n",
    "    while(ts[-1] < T):\n",
    "        t, y = ts[-1], ys[-1]\n",
    "        ys.append(y + h*f(t, y))\n",
    "        ts.append(t + h)\n",
    "    return (np.array(ts), np.array(ys))"
   ]
  },
  {
   "cell_type": "code",
   "execution_count": null,
   "id": "1725362e",
   "metadata": {},
   "outputs": [],
   "source": [
    "# y(1) for Euler's method\n",
    "Euler(1., 1., d_y, 0.1)[1][-1]"
   ]
  },
  {
   "cell_type": "markdown",
   "id": "8e34b8f6",
   "metadata": {},
   "source": [
    "***\n",
    "b) Repeat this with the second order Taylor method and Heun's method.\n",
    "***"
   ]
  },
  {
   "cell_type": "code",
   "execution_count": null,
   "id": "8a0e46c4",
   "metadata": {},
   "outputs": [],
   "source": [
    "# Define the second-order Taylor method"
   ]
  },
  {
   "cell_type": "code",
   "execution_count": null,
   "id": "1046c4ee",
   "metadata": {},
   "outputs": [],
   "source": [
    "# Define Heun's method"
   ]
  },
  {
   "cell_type": "code",
   "execution_count": null,
   "id": "5b4288ac",
   "metadata": {},
   "outputs": [],
   "source": [
    "# approximate y(1) using the methods and h = 0.1\n",
    "\n",
    "# exact value of y(1)\n",
    "np.exp(-1.)\n",
    "\n",
    "# y(1) for Euler's method\n",
    "Euler(1., 1., d_y, 0.1)[1][-1]\n",
    "\n",
    "# y(1) for Heun's method\n",
    "\n",
    "\n",
    "# y(1) for second order Taylor's method\n"
   ]
  },
  {
   "cell_type": "markdown",
   "id": "44b25281",
   "metadata": {},
   "source": [
    "***\n",
    "d)  We now want to approximate the convergence orders of these methods numerically. Recall that we defined the global error,\n",
    "\t$$\n",
    "\t\t\\epsilon_g := \\max_i \\lvert y(t_i) - y_i \\rvert.\n",
    "\t$$\n",
    "\tIf we assume that $\\epsilon_g(h) \\approx M h^p$, for some $M > 0$, we have,\n",
    "\t$$\n",
    "\t\t\\log \\bigg(\\frac{\\epsilon_g(h_1)}{\\epsilon_g(h_2)} \\bigg) \\approx p \\log \\bigg(\\frac{h_1}{h_2} \\bigg).\n",
    "\t$$\n",
    "\tCompute the global error of the methods from a)-c) using $h_1 = 10^{-2}$ and $h_2 = 10^{-3}$, where $t_i = i h, i = 1, \\dots, \\frac{1}{h}$. Use this to approximate the convergence order, $p$, for each of the three methods.\n",
    "***"
   ]
  },
  {
   "cell_type": "code",
   "execution_count": null,
   "id": "eb4e6def",
   "metadata": {},
   "outputs": [],
   "source": [
    "# approximate convergence order for each method\n",
    "\n",
    "h1 = 1e-2\n",
    "\n",
    "h2 = 1e-3\n",
    "\n",
    "# Euler's method\n",
    "ts,ys = Euler(1., 1., d_y, h1)\n",
    "e1 = np.linalg.norm(ys - np.exp(-ts**2), np.inf)\n",
    "# Euler for h2, computation of p\n",
    "\n",
    "# Heun's method\n",
    "\n",
    "# second order Taylor's method\n"
   ]
  },
  {
   "cell_type": "markdown",
   "id": "1aa987e5",
   "metadata": {},
   "source": [
    "***\n",
    "e) We can also approximate the convergence order by plotting $\\log(\\epsilon_g(h)) = \\log(M) + p \\log(h)$ versus $\\log(h)$, and inspecting the slope of the function.\n",
    "Plot $\\log(\\epsilon_g(h))$ versus $\\log(h)$ for $h = 10^{-2}, 10^{-3}, 10^{-4}$ for each of the three methods.\n",
    "***"
   ]
  },
  {
   "cell_type": "code",
   "execution_count": null,
   "id": "ab1ffaef",
   "metadata": {},
   "outputs": [],
   "source": [
    "# plot log(error) versus log(h) \n",
    "\n",
    "# values of h\n",
    "hs = [1e-2, 1e-3, 1e-4]\n",
    "\n",
    "errors_Euler = []\n",
    "errors_Heun = []\n",
    "errors_Taylor2 = []\n",
    "for h in hs:\n",
    "    # Euler's method error\n",
    "\n",
    "    # Heun's method error\n",
    "\n",
    "    # second order Taylor method error\n",
    "\n",
    "\n",
    "# plot of Euler's method errors\n",
    "plt.plot(np.log(hs), np.log(errors_Euler), label=\"Euler's method\")\n",
    "\n",
    "# plot of Heun's method errors\n",
    "\n",
    "\n",
    "# plot of second order Taylor error\n",
    "\n",
    "\n",
    "plt.legend()"
   ]
  }
 ],
 "metadata": {
  "kernelspec": {
   "display_name": "Python 3 (ipykernel)",
   "language": "python",
   "name": "python3"
  },
  "language_info": {
   "codemirror_mode": {
    "name": "ipython",
    "version": 3
   },
   "file_extension": ".py",
   "mimetype": "text/x-python",
   "name": "python",
   "nbconvert_exporter": "python",
   "pygments_lexer": "ipython3",
   "version": "3.9.7"
  }
 },
 "nbformat": 4,
 "nbformat_minor": 5
}
