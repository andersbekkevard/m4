{
 "cells": [
  {
   "cell_type": "markdown",
   "metadata": {},
   "source": [
    "# Newton's method for Lagrange optimisation"
   ]
  },
  {
   "cell_type": "code",
   "execution_count": null,
   "metadata": {},
   "outputs": [],
   "source": [
    "import numpy as np\n",
    "\n",
    "def F(x, y, lam):\n",
    "    \"\"\"System F(x,y,λ) = 0 from the Lagrangian conditions.\"\"\"\n",
    "    # TODO: implement the equations\n",
    "    Fx = ...  # 2(x-3) + (lam/2)*x\n",
    "    Fy = ...  # 2y + 2*lam*y\n",
    "    Fl = ...  # x^2/4 + y^2 - 1\n",
    "    return np.array([Fx, Fy, Fl])\n",
    "\n",
    "def J(x, y, lam):\n",
    "    \"\"\"Jacobian of F with respect to (x,y,λ).\"\"\"\n",
    "    # TODO: implement Jacobian entries\n",
    "    return np.array([\n",
    "        [..., ..., ...],  # derivatives of Fx\n",
    "        [..., ..., ...],  # derivatives of Fy\n",
    "        [..., ..., ...]   # derivatives of Fl\n",
    "    ])\n",
    "\n",
    "def newton_step(x, y, lam):\n",
    "    \"\"\"Perform one Newton iteration.\"\"\"\n",
    "    F_val = F(x, y, lam)\n",
    "    J_val = J(x, y, lam)\n",
    "    delta = np.linalg.solve(J_val, F_val)\n",
    "    return x - delta[0], y - delta[1], lam - delta[2]\n",
    "\n",
    "# Initial guess\n",
    "x, y, lam = 3.0, 0.0, 1.0\n",
    "\n",
    "# Run a few steps\n",
    "for k in range(5):\n",
    "    print(f\"Step {k}: (x, y, λ) = ({x:.6f}, {y:.6f}, {lam:.6f})\")\n",
    "    x, y, lam = newton_step(x, y, lam)\n",
    "\n",
    "print(\"\\nApproximate minimizer on the ellipse:\", (x, y))\n",
    "print(\"Distance to P=(3,0):\", np.sqrt((x-3)**2 + y**2))\n",
    "\n",
    "def Newton(F, J, x0, y0, lam0, max_iter=100, tol=1e-6):\n",
    "\t\"\"\"Newton's method for systems in R^2.\"\"\"\n",
    "\tx, y, lam = x0, y0, lam0\n",
    "\tfor k in range(max_iter):\n",
    "\t\t# solve J*delta = F\n",
    "\t\t# compute new guess (x_new, y_new, lam_new)\n",
    "\t\t# check for convergence\n",
    "\t\t# update (x, y, lam)\n",
    "\treturn x, y, lam\n",
    "\n",
    "x, y, lam = Newton(F, J, 3.0, 0.0, 1.0)\n",
    "print(\"\\nApproximate minimizer on the ellipse using Newton function:\", (x, y))"
   ]
  },
  {
   "cell_type": "code",
   "execution_count": null,
   "metadata": {},
   "outputs": [],
   "source": []
  }
 ],
 "metadata": {
  "kernelspec": {
   "display_name": "base",
   "language": "python",
   "name": "python3"
  },
  "language_info": {
   "codemirror_mode": {
    "name": "ipython",
    "version": 3
   },
   "file_extension": ".py",
   "mimetype": "text/x-python",
   "name": "python",
   "nbconvert_exporter": "python",
   "pygments_lexer": "ipython3",
   "version": "3.12.8"
  }
 },
 "nbformat": 4,
 "nbformat_minor": 2
}
