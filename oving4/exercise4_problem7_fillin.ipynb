{
 "cells": [
  {
   "cell_type": "markdown",
   "id": "ed12d283",
   "metadata": {},
   "source": [
    "# Non-linear equations "
   ]
  },
  {
   "cell_type": "markdown",
   "id": "8f68873f",
   "metadata": {},
   "source": [
    "## Multi-variate Newton's method\n",
    "\n",
    "Let's load the numerics package, as usual, and also recall the \"newton_system\" function shown in class:"
   ]
  },
  {
   "cell_type": "code",
   "execution_count": 42,
   "id": "a303a329",
   "metadata": {},
   "outputs": [],
   "source": [
    "import numpy as np\n",
    "import matplotlib.pyplot as plt\n",
    "from numpy.linalg import solve, norm\n",
    "from numpy import cos, sin\n",
    "import math"
   ]
  },
  {
   "cell_type": "code",
   "execution_count": 43,
   "id": "719c2a18",
   "metadata": {},
   "outputs": [],
   "source": [
    "def newton_system(f, J, x0, tol = 1.0e-10, max_iter=20, verbose=True):\n",
    "    \"\"\"\n",
    "        newton_system(f, J, x0, tol = 1.e-10, max_iter=20, verbose=True)\n",
    "    \n",
    "    Solve the system of equations given by $\\mathbf{F}(\\mathbf{x}) = 0$ using Newton's method.\n",
    "    \n",
    "    Input:\n",
    "        f    - the function f\n",
    "        J    - the Jacobian of f\n",
    "        x0   - initial value\n",
    "    Optional (keyword) parameters\n",
    "        tol      - (`1.0e-10`) a tolerance when to stop (maximal movement in a compontent of $\\mathbf f(\\mathbf x^{(k)})$ is less than this tolerance)\n",
    "        max_iter - (`20`) the maximal number of iterations\n",
    "        verbose  – (`True`) prints the iterates if set to true\n",
    "    Output:\n",
    "        x, k – the found root and the number of iterations needed\n",
    "               to get to this point\n",
    "    \"\"\"\n",
    "    x = x0\n",
    "    verbose and print('k ={:3d}, x = '.format(0), x)\n",
    "    for k in range(max_iter):\n",
    "        fx = f(x)\n",
    "        me = norm(fx, math.inf)\n",
    "        if me < tol: # Maximal entry if suze less than tol\n",
    "            verbose and print('The (max entrywise) function value {:1.5e} is below the tolerance ({:1.5e})'.format(me, tol))\n",
    "            break\n",
    "        Jx = J(x)\n",
    "        delta = solve(Jx, -fx) # Solve (J(x))δ = f(x) \n",
    "        x = x + delta            \n",
    "        verbose and print('k ={:3d}, x = '.format(k+1), x)\n",
    "    return x, k"
   ]
  },
  {
   "cell_type": "markdown",
   "id": "29ef9fae",
   "metadata": {},
   "source": [
    "### a) Linear approximation\n",
    "\n",
    "Using the approximation $\\cos\\theta\\approx 1$, we get the linear system \n",
    "  \n",
    ".....\n",
    "\n",
    "which can be easily solved."
   ]
  },
  {
   "cell_type": "markdown",
   "id": "75ffe85e",
   "metadata": {},
   "source": [
    "### d) Iterating further\n",
    "\n",
    "To reach the tolerance of $10^{-6}$, we have to perform more iterations. The following routine can be used:"
   ]
  },
  {
   "cell_type": "code",
   "execution_count": 41,
   "id": "1f5798bf",
   "metadata": {},
   "outputs": [
    {
     "name": "stdout",
     "output_type": "stream",
     "text": [
      "[1.33333333 2.        ]\n",
      "k =  0, x =  [1.33333333 2.        ]\n",
      "k =  1, x =  [0.88920441 2.        ]\n",
      "k =  2, x =  [0.86505011 2.        ]\n",
      "k =  3, x =  [0.86492728 2.        ]\n",
      "The (max entrywise) function value 1.95705e-08 is below the tolerance (1.00000e-06)\n",
      "\n",
      "Test: f(x)=[-1.95705323e-08  0.00000000e+00]\n"
     ]
    }
   ],
   "source": [
    "#Problem data\n",
    "W = 2\n",
    "k = 1\n",
    "k_theta = 3\n",
    "L = 2\n",
    "\n",
    "#Initial guess (linearisation)\n",
    "d0 = #insert linearised expression obtained in task a)\n",
    "theta0 = #insert linearised expression obtained in task a)\n",
    "x0 = np.array([theta0, d0]) #put d0 and theta0 into a vector x0\n",
    "print(x0)\n",
    "\n",
    "def f(x): \n",
    "    theta = x[0]\n",
    "    d = x[1]\n",
    "    y = np.array([k*L*d*cos(theta)-k_theta*theta, \n",
    "               k*d-W])\n",
    "    return y\n",
    "\n",
    "def J(x):\n",
    "    theta = x[0]\n",
    "    d = x[1]\n",
    "    return np.array(\n",
    "         [[?, ?],\n",
    "         [?,  ?]]) #replace the questions marks (?) according to the expression obtained in task b)\n",
    "\n",
    "max_iter = 20\n",
    "# Apply Newton's method\n",
    "x, nit = newton_system(f, J, x0, tol = 1.e-6, max_iter = max_iter)\n",
    "  \n",
    "print('\\nTest: f(x)={}'.format(f(x)))\n",
    "if nit == max_iter:\n",
    "    printf('Warning: Convergence was not achieved')"
   ]
  }
 ],
 "metadata": {
  "kernelspec": {
   "display_name": "Python 3",
   "language": "python",
   "name": "python3"
  },
  "language_info": {
   "codemirror_mode": {
    "name": "ipython",
    "version": 3
   },
   "file_extension": ".py",
   "mimetype": "text/x-python",
   "name": "python",
   "nbconvert_exporter": "python",
   "pygments_lexer": "ipython3",
   "version": "3.8.8"
  }
 },
 "nbformat": 4,
 "nbformat_minor": 5
}
