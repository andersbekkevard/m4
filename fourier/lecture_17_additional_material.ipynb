{
 "cells": [
  {
   "cell_type": "markdown",
   "metadata": {
    "slideshow": {
     "slide_type": "slide"
    }
   },
   "source": [
    "## Lecture 06: Additional material\n",
    "\n",
    "André Massing (Spring 2020), modified by Markus Grasmair\n",
    "\n",
    "Date: September 04, 2020"
   ]
  },
  {
   "cell_type": "markdown",
   "metadata": {
    "slideshow": {
     "slide_type": "fragment"
    }
   },
   "source": [
    "Executing the following cell loads a non-default css style for the notebook."
   ]
  },
  {
   "cell_type": "code",
   "execution_count": 3,
   "metadata": {
    "slideshow": {
     "slide_type": "fragment"
    }
   },
   "outputs": [
    {
     "data": {
      "text/html": [
       "<link href='http://fonts.googleapis.com/css?family=Alegreya+Sans:100,300,400,500,700,800,900,100italic,300italic,400italic,500italic,700italic,800italic,900italic' rel='stylesheet' type='text/css'> <link href='http://fonts.googleapis.com/css?family=Arvo:400,700,400italic' rel='stylesheet' type='text/css'> <link href=\"https://fonts.googleapis.com/css?family=News+Cycle\" rel=\"stylesheet\"> <link href='http://fonts.googleapis.com/css?family=Nixie+One' rel='stylesheet' type='text/css'> <link href='http://fonts.googleapis.com/css?family=PT+Mono' rel='stylesheet' type='text/css'> <link href='http://fonts.googleapis.com/css?family=Shadows+Into+Light' rel='stylesheet' type='text/css'> <link href=\"https://fonts.googleapis.com/css?family=Source+Code+Pro\" rel=\"stylesheet\"> <style> @font-face {\n",
       "    /*font-family: \"Computer Modern\";*/\n",
       "    /*src: url('http://mirrors.ctan.org/fonts/cm-unicode/fonts/otf/cmunss.otf');*/\n",
       "    font-family: 'News Cycle', sans-serif;\n",
       "}\n",
       "\n",
       "\n",
       "/* main background */\n",
       "\n",
       "\n",
       "/*#notebook_panel { \n",
       "        background: #C9D4E2;\n",
       "    }*/\n",
       "\n",
       "div.cell {\n",
       "    /*max-width:600px;*/\n",
       "    /*margin-left:16% !important;*/\n",
       "    /*margin-right:auto;*/\n",
       "}\n",
       "\n",
       "div.text_cell {\n",
       "    max-width: 120ex;\n",
       "    /* instead of 100%, */\n",
       "}\n",
       "\n",
       "div.text_cell_render {\n",
       "    font-family: 'Alegreya Sans', Computer Modern, \"Helvetica Neue\", Arial, Helvetica, Geneva,   sans-serif;\n",
       "    line-height: 135%;\n",
       "    /*font-size:    45pt;*/\n",
       "    font-size: 130%;\n",
       "    /*width:600px;*/\n",
       "    /*margin-left:auto;*/\n",
       "    /*margin-right:auto;*/\n",
       "}\n",
       "\n",
       ".CodeMirror {\n",
       "    /*font-family: 'Source Code Pro', monospace;*/\n",
       "    /*font-style: italic;*/\n",
       "    /*font-weight: bold;*/\n",
       "    /*font-size: 120%;*/\n",
       "}\n",
       "\n",
       "\n",
       "/*.prompt{\n",
       "        display: None;\n",
       "    }*/\n",
       "\n",
       ".text_cell_render h1 {\n",
       "    font-family: 'Nixie One', serifV;\n",
       "    font-style: regular;\n",
       "    font-weight: 400;\n",
       "    font-size: 45pt;\n",
       "    line-height: 100%;\n",
       "        color: #497BB9;    \n",
       "    /*color: #5889C5;*/\n",
       "    /*color: rgb(0, 51, 102);*/\n",
       "    /*font-weight: 200;*/\n",
       "    /*font-size: 50pt;*/\n",
       "    margin-bottom: 0.5em;\n",
       "    margin-top: 0.5em;\n",
       "    display: block;\n",
       "}\n",
       "\n",
       ".text_cell_render h2 {\n",
       "    font-family: 'Nixie One', serif;\n",
       "    font-weight: 400;\n",
       "    font-size: 30pt;\n",
       "    line-height: 100%;\n",
       "    /*color: rgb(0,51,102);*/\n",
       "    color: #497BB9;    \n",
       "    margin-bottom: 0.1em;\n",
       "    margin-top: 0.3em;\n",
       "    display: block;\n",
       "}\t\n",
       "\n",
       ".text_cell_render h3 {\n",
       "    font-family: 'Nixie One', serif;\n",
       "    margin-top:16px;\n",
       "    font-size: 22pt;\n",
       "    font-weight: 600;\n",
       "    margin-bottom: 3px;\n",
       "    font-style: regular;\n",
       "    color: rgb(102,102,0);\n",
       "}\n",
       "\n",
       ".text_cell_render h4 {    /*Use this for captions*/\n",
       "    font-family: 'Nixie One', serif;\n",
       "    font-size: 14pt;\n",
       "/*    text-align: center;*/\n",
       "    margin-top: 0em;\n",
       "    margin-bottom: 2em;\n",
       "    font-style: regular;\n",
       "}\n",
       "\n",
       ".text_cell_render h5 {  /*Use this for small titles*/\n",
       "    font-family: 'Nixie One', sans-serif;\n",
       "    font-weight: 400;\n",
       "    font-size: 16pt;\n",
       "    color: rgb(163,0,0);\n",
       "    /*color: #5889C5;*/\n",
       "    /*margin-bottom: .5em;\n",
       "    margin-top: 0.5em;*/\n",
       "    font-style: italic;\n",
       "    margin-bottom: .1em;\n",
       "    margin-top: 0.8em;\n",
       "    display: block;\n",
       "}\n",
       "\n",
       ".warning {\n",
       "    color: rgb( 240, 20, 20)\n",
       "}\n",
       "\n",
       "</style> \n",
       "<script>\n",
       " MathJax.Hub.Config( {\n",
       "    TeX: {\n",
       "        Macros: {\n",
       "            NN: \"{\\\\bf N}\",\n",
       "            RR: \"{\\\\mathbb{R}}\",\n",
       "            mcO: \"{\\\\mathcal{O}}\"\n",
       "        },\n",
       "        equationNumbers: { autoNumber: \"AMS\" },\n",
       "        extensions: [\"AMSmath.js\", \"begingroup.js\"] \n",
       "    },\n",
       "    tex2jax: {\n",
       "        inlineMath: [ ['$', '$'], [\"\\\\(\", \"\\\\)\"]], displayMath: [ ['$$', '$$'], [\"\\\\[\", \"\\\\]\"]]\n",
       "    },\n",
       "    displayAlign: 'center', // Change this to 'center' to center equations.\n",
       "    \"HTML-CSS\": {\n",
       "        styles: {\n",
       "            '.MathJax_Display': {\n",
       "                \"margin\": 4\n",
       "            }\n",
       "        }\n",
       "    }\n",
       "}\n",
       ");\n",
       "</script>"
      ],
      "text/plain": [
       "<IPython.core.display.HTML object>"
      ]
     },
     "execution_count": 3,
     "metadata": {},
     "output_type": "execute_result"
    }
   ],
   "source": [
    "from IPython.core.display import HTML\n",
    "def css_styling():\n",
    "   styles = open(\"tma4125.css\", \"r\").read()\n",
    "   return HTML(styles)\n",
    "\n",
    "# Comment out next line and execute this cell to restore the default notebook style \n",
    "css_styling()"
   ]
  },
  {
   "cell_type": "markdown",
   "metadata": {
    "slideshow": {
     "slide_type": "slide"
    }
   },
   "source": [
    "We need some boilerplate code for arrays, plotting and nice widgets."
   ]
  },
  {
   "cell_type": "code",
   "execution_count": 4,
   "metadata": {
    "slideshow": {
     "slide_type": "fragment"
    }
   },
   "outputs": [],
   "source": [
    "import numpy as np \n",
    "import matplotlib.pyplot as plt\n",
    "import ipywidgets as widgets\n",
    "from ipywidgets import interact"
   ]
  },
  {
   "cell_type": "code",
   "execution_count": 5,
   "metadata": {
    "slideshow": {
     "slide_type": "fragment"
    }
   },
   "outputs": [],
   "source": [
    "%matplotlib inline\n",
    "\n",
    "plt.rcParams['figure.figsize'] = [15, 7]"
   ]
  },
  {
   "cell_type": "markdown",
   "metadata": {
    "slideshow": {
     "slide_type": "slide"
    }
   },
   "source": [
    "## Examples of Fourier series\n",
    "\n",
    "First we define some plotting functions which will visualize\n",
    "the $N$-th partial sum for a given function $f$. The examples below show how to use it."
   ]
  },
  {
   "cell_type": "code",
   "execution_count": 6,
   "metadata": {
    "slideshow": {
     "slide_type": "fragment"
    }
   },
   "outputs": [],
   "source": [
    "def plot_partial_sum(f, x, S_N, N, title=\"\"):\n",
    "    y = f(x)\n",
    "    s_N = S_N(x, N)\n",
    "    plt.plot(x, y, label=\"$f$\",color='b')\n",
    "    plt.plot(x, s_N, label=\"$S_N$\",color='r')\n",
    "    plt.title(title)\n",
    "    plt.legend()\n",
    "    plt.xlabel(\"x\")\n",
    "    plt.ylabel(\"$S_N(x)$\")\n",
    "    plt.show()"
   ]
  },
  {
   "cell_type": "markdown",
   "metadata": {
    "slideshow": {
     "slide_type": "slide"
    }
   },
   "source": [
    "### Example 1:\n",
    "The function $f$ is the rectangular wave given as\n",
    "$$\n",
    "f(x) = \n",
    "\\left\\{\n",
    "\\begin{array}{rl}\n",
    " 1 &\\text{ if } 0 < x < \\pi, \\\\\n",
    "-1 &\\text{ if } -\\pi < x < 0\n",
    "\\end{array}\n",
    "\\right.\n",
    "$$\n",
    "\n",
    "Its Fourier series is\n",
    "$$\n",
    "f \\sim\n",
    "\\sum_{n=1}^\\infty \\dfrac{2}{\\pi n}\n",
    "\\bigl(\n",
    "1 - (-1)^{n}\n",
    "\\bigr)\n",
    "\\sin(nx)\n",
    "= \\frac{4}{\\pi}\\Bigl( \\sin(x) + \\frac{1}{3}\\sin(3x) + \\frac{1}{5}\\sin(5x) + \\ldots \\Bigr)\n",
    "$$"
   ]
  },
  {
   "cell_type": "code",
   "execution_count": 7,
   "metadata": {
    "slideshow": {
     "slide_type": "slide"
    }
   },
   "outputs": [],
   "source": [
    "x = np.linspace(-3.0*np.pi, 3.0*np.pi, 1000) # Interval\n",
    "f = lambda  x : np.sign(np.sin(x)) # Define f\n",
    "# Check that this definition actually works!\n",
    "# It would be also possible to define f by means of the Heaviside function\n",
    "# or using if-statements; the chosen definition has the advantage of being\n",
    "# somehow shorter.\n",
    "\n",
    "# Define partial sums\n",
    "def S_N(x, N):\n",
    "    s = np.zeros_like(x)\n",
    "    for n in range(1,N+1):\n",
    "        s += 2/(np.pi * n)*(1 - (-1)**n)*np.sin(n*x)\n",
    "    return s\n",
    "\n",
    "title = \"Rectangular wave\"\n",
    "\n",
    "# Define a helper function\n",
    "pps = lambda N: plot_partial_sum(f, x, S_N, N, title)"
   ]
  },
  {
   "cell_type": "code",
   "execution_count": null,
   "metadata": {
    "slideshow": {
     "slide_type": "slide"
    }
   },
   "outputs": [
    {
     "data": {
      "application/vnd.jupyter.widget-view+json": {
       "model_id": "dbf9f3b8c6bb450fbbce0c141513f484",
       "version_major": 2,
       "version_minor": 0
      },
      "text/plain": [
       "interactive(children=(IntSlider(value=0, description='Order N', max=60, step=2), Output()), _dom_classes=('wid…"
      ]
     },
     "metadata": {},
     "output_type": "display_data"
    },
    {
     "data": {
      "text/plain": [
       "<function __main__.<lambda>(N)>"
      ]
     },
     "execution_count": 8,
     "metadata": {},
     "output_type": "execute_result"
    }
   ],
   "source": [
    "slider = widgets.IntSlider(min = 0,\n",
    "                           max = 60,\n",
    "                           step = 2,\n",
    "                           description=\"Order N\",\n",
    "                           value = 0)\n",
    "interact(pps, N=slider)"
   ]
  },
  {
   "cell_type": "markdown",
   "metadata": {
    "slideshow": {
     "slide_type": "slide"
    }
   },
   "source": [
    "### Example 2: Sawtooth wave\n",
    "\n",
    "One can show that the Fourier series of the $2\\pi$-periodic function defined\n",
    "by $f(x) = x$ for $-\\pi < x < \\pi$ is\n",
    "\n",
    "$$\n",
    "S_N(f)(x)\n",
    "=\n",
    "\\sum_{n=1}^N \\dfrac{2}{n}\n",
    "(-1)^{n+1}\n",
    "\\sin(nx)\n",
    "=\n",
    "2\\Bigl( \\sin(x) - \\frac{1}{2} \\sin(2x) + \\frac{1}{3}\\sin(3x) - \\frac{1}{4}\\sin(4x) + \\ldots \\Bigr)\n",
    "$$"
   ]
  },
  {
   "cell_type": "code",
   "execution_count": 9,
   "metadata": {
    "slideshow": {
     "slide_type": "slide"
    }
   },
   "outputs": [],
   "source": [
    "# Interval\n",
    "x = np.linspace(-3*np.pi, 3*np.pi, 1000)\n",
    "\n",
    "# Define f\n",
    "f = lambda x: x-2*np.pi*np.round(x/(2*np.pi))\n",
    "\n",
    "\n",
    "# Define partial sum\n",
    "def S_N(x, N):\n",
    "    s = np.zeros_like(x)\n",
    "    for n in range(1,N+1):\n",
    "        s += 2./n*(-1)**(n+1)*np.sin(n*x)\n",
    "    return s\n",
    "\n",
    "title = \"Sawtooth wave\"\n",
    "\n",
    "# Define a helper function\n",
    "pps = lambda N: plot_partial_sum(f, x, S_N, N, title)"
   ]
  },
  {
   "cell_type": "code",
   "execution_count": null,
   "metadata": {
    "slideshow": {
     "slide_type": "slide"
    }
   },
   "outputs": [
    {
     "data": {
      "application/vnd.jupyter.widget-view+json": {
       "model_id": "b2c7fafa3f9f4117b588fd274655efd5",
       "version_major": 2,
       "version_minor": 0
      },
      "text/plain": [
       "interactive(children=(IntSlider(value=0, description='Order N', max=20), Output()), _dom_classes=('widget-inte…"
      ]
     },
     "metadata": {},
     "output_type": "display_data"
    },
    {
     "data": {
      "text/plain": [
       "<function __main__.<lambda>(N)>"
      ]
     },
     "execution_count": 10,
     "metadata": {},
     "output_type": "execute_result"
    }
   ],
   "source": [
    "slider = widgets.IntSlider(min = 0,\n",
    "                           max = 20,\n",
    "                           step = 1,\n",
    "                           description=\"Order N\",\n",
    "                           value = 0)\n",
    "interact(pps, N=slider)"
   ]
  },
  {
   "cell_type": "markdown",
   "metadata": {},
   "source": [
    "### Example 3: piecewise quadratic function\n",
    "\n",
    "One can show that the Fourier coefficients of the $2\\pi$-periodic function defined\n",
    "by \n",
    "$$\n",
    "f(x) = \n",
    "\\left\\{\\begin{aligned}\n",
    "x^2 & \\quad\\text{ if } 0 < x < \\pi,\\\\\n",
    "0 & \\quad\\text{ if } -\\pi < x < 0,\\\\\n",
    "\\end{aligned}\\right.\n",
    "$$\n",
    "are\n",
    "$$\n",
    "\\begin{aligned}\n",
    "a_n &= \\frac{\\pi^2}{6},\\\\\n",
    "a_n &= (-1)^n \\frac{2}{n^2}\\\\\n",
    "b_n &= \\left\\{\\begin{aligned}\n",
    "&-\\frac{\\pi}{n}&& \\quad\\text{ if } n \\text{ is even},\\\\\n",
    "&\\frac{\\pi}{n} - \\frac{4}{n^3\\pi} && \\quad\\text{ if } n \\text{ is odd.}\\\\\n",
    "\\end{aligned}\\right.\n",
    "\\end{aligned}\n",
    "$$\n",
    "\n",
    "(See problem 1a in the exam from autumn 2013.)"
   ]
  },
  {
   "cell_type": "code",
   "execution_count": 11,
   "metadata": {},
   "outputs": [],
   "source": [
    "# Interval\n",
    "x = np.linspace(-3*np.pi, 3*np.pi, 1000)\n",
    "\n",
    "# Define f\n",
    "f = lambda x: 4*np.pi**2*(np.round(x/(2*np.pi)) < x/(2*np.pi))*(np.round(x/(2*np.pi)) - x/(2*np.pi))**2\n",
    "\n",
    "\n",
    "# Define partial sum\n",
    "def S_N(x, N):\n",
    "    s = (np.pi**2/6)*np.ones_like(x)\n",
    "    for n in range(1,N+1):\n",
    "        s += (2*(-1)**n/n**2)*np.cos(n*x)\n",
    "        if (n%2):\n",
    "            s+= (np.pi/n - 4/(n**3*np.pi))*np.sin(n*x)\n",
    "        else:\n",
    "            s+= -(np.pi/n)*np.sin(n*x)\n",
    "    return s\n",
    "\n",
    "title = \"$f(x)$\"\n",
    "\n",
    "# Define a helper function\n",
    "pps = lambda N: plot_partial_sum(f, x, S_N, N, title)"
   ]
  },
  {
   "cell_type": "code",
   "execution_count": 12,
   "metadata": {},
   "outputs": [
    {
     "data": {
      "application/vnd.jupyter.widget-view+json": {
       "model_id": "d5f2f85c2835442b8b698ef514a77868",
       "version_major": 2,
       "version_minor": 0
      },
      "text/plain": [
       "interactive(children=(IntSlider(value=0, description='Order N', max=40), Output()), _dom_classes=('widget-inte…"
      ]
     },
     "metadata": {},
     "output_type": "display_data"
    },
    {
     "data": {
      "text/plain": [
       "<function __main__.<lambda>(N)>"
      ]
     },
     "execution_count": 12,
     "metadata": {},
     "output_type": "execute_result"
    }
   ],
   "source": [
    "slider = widgets.IntSlider(min = 0,\n",
    "                           max = 40,\n",
    "                           step = 1,\n",
    "                           description=\"Order N\",\n",
    "                           value = 0)\n",
    "interact(pps, N=slider)"
   ]
  },
  {
   "cell_type": "code",
   "execution_count": null,
   "metadata": {},
   "outputs": [],
   "source": []
  }
 ],
 "metadata": {
  "kernelspec": {
   "display_name": "venv",
   "language": "python",
   "name": "python3"
  },
  "language_info": {
   "codemirror_mode": {
    "name": "ipython",
    "version": 3
   },
   "file_extension": ".py",
   "mimetype": "text/x-python",
   "name": "python",
   "nbconvert_exporter": "python",
   "pygments_lexer": "ipython3",
   "version": "3.13.8"
  }
 },
 "nbformat": 4,
 "nbformat_minor": 2
}
